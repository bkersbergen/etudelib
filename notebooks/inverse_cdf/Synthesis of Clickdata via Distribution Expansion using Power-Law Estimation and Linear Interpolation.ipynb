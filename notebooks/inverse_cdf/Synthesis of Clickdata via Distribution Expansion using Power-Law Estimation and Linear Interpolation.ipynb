{
 "cells": [
  {
   "cell_type": "markdown",
   "id": "e957619a",
   "metadata": {},
   "source": [
    "# Synthesis of Clickdata via Distribution Expansion using Power-Law Estimation and Linear Interpolation\n",
    "\n",
    "## Introduction:\n",
    "The clickstream datasets used to train recommender models offline are often a subset of clicks obtained from the online environment due to various reasons. Firstly, the GDPR law requires user consent for their clicks to be utilized for model training, which many online visitors, such as scraper and SEO bots, do not provide. Secondly, offline datasets are filtered to ensure a minimum support for session length and item support. However, to accurately evaluate the performance of recommendation systems, access to datasets similar to real online behavior is necessary. To address this issue, we propose generating larger datasets with more items that follow the same distribution as visitors who provided consent. Our approach involves estimating the underlying probability distribution and utilizing it to create new samples. We provide code that utilizes power-law estimation and linear interpolation to expand a given distribution.\n",
    "\n",
    "\n",
    "\n",
    "\n",
    "\n",
    "## Methods:\n",
    "The code starts by setting up the observed item frequencies and probabilities. Then, the cumulative probability distribution function (CDF) is computed from the observed item probabilities.\n",
    "\n",
    "Next, the power-law exponent is estimated from the observed frequencies using linear regression. We compute the logarithms of the frequencies and their ranks and fits a straight line to the data using the polyfit() function. The slope of the line is the negative of the power-law exponent.\n",
    "\n",
    "To generate new probabilities for a given number of items 'm', we create a new array of item indices 'new_idx_list' and computes the logarithm of the probabilities using the estimated power-law exponent and the item indices. The logarithmic probabilities are then converted back to probabilities using the exponential function.\n",
    "\n",
    "The observed and new item probabilities are then combined, sorted and normalized again to ensure that they sum to 1.\n",
    "\n",
    "To create a mapping between the cumulative probabilities and the item indices, we use a linear interpolation. The interp1d() function is used to create a function that maps a given cumulative probability to the corresponding item index.\n",
    "\n",
    "Finally, the code samples new items from the distribution uniformly from the interval (0, 1] and using the inverse of the cumulative distribution function to map them to the corresponding item index. \n",
    "\n",
    "## Results:\n",
    "The code generates a large number of new item samples from the input distribution using the power-law estimation and linear interpolation approach along with their probabilities.\n",
    "\n",
    "## Discussion:\n",
    "The presented approach is a simple and efficient way to generate new samples from a given distribution. The accuracy of the results depends on the quality of the input data and the validity of the power-law assumption. In some cases, other distributions or models may be more appropriate, and more advanced statistical techniques may be required. "
   ]
  },
  {
   "cell_type": "code",
   "execution_count": 1,
   "id": "bcb2462c",
   "metadata": {},
   "outputs": [],
   "source": [
    "import numpy as np\n",
    "import math\n",
    "import matplotlib.pyplot as plt\n",
    "from scipy.stats import entropy\n",
    "from scipy import interpolate\n",
    "from scipy.optimize import curve_fit\n",
    "import pandas as pd"
   ]
  },
  {
   "cell_type": "code",
   "execution_count": 2,
   "id": "cceae144",
   "metadata": {},
   "outputs": [
    {
     "data": {
      "text/html": [
       "<div>\n",
       "<style scoped>\n",
       "    .dataframe tbody tr th:only-of-type {\n",
       "        vertical-align: middle;\n",
       "    }\n",
       "\n",
       "    .dataframe tbody tr th {\n",
       "        vertical-align: top;\n",
       "    }\n",
       "\n",
       "    .dataframe thead th {\n",
       "        text-align: right;\n",
       "    }\n",
       "</style>\n",
       "<table border=\"1\" class=\"dataframe\">\n",
       "  <thead>\n",
       "    <tr style=\"text-align: right;\">\n",
       "      <th></th>\n",
       "      <th>SessionId</th>\n",
       "      <th>Time</th>\n",
       "      <th>ItemId</th>\n",
       "    </tr>\n",
       "  </thead>\n",
       "  <tbody>\n",
       "    <tr>\n",
       "      <th>0</th>\n",
       "      <td>0008019740_18</td>\n",
       "      <td>1585897352</td>\n",
       "      <td>9200000083733268</td>\n",
       "    </tr>\n",
       "    <tr>\n",
       "      <th>1</th>\n",
       "      <td>0008019740_18</td>\n",
       "      <td>1585897382</td>\n",
       "      <td>9200000049819763</td>\n",
       "    </tr>\n",
       "    <tr>\n",
       "      <th>2</th>\n",
       "      <td>0008019740_18</td>\n",
       "      <td>1585897392</td>\n",
       "      <td>9200000066323079</td>\n",
       "    </tr>\n",
       "    <tr>\n",
       "      <th>3</th>\n",
       "      <td>0008019740_18</td>\n",
       "      <td>1585897506</td>\n",
       "      <td>9200000081546242</td>\n",
       "    </tr>\n",
       "    <tr>\n",
       "      <th>4</th>\n",
       "      <td>0008019740_18</td>\n",
       "      <td>1585897633</td>\n",
       "      <td>9200000125623273</td>\n",
       "    </tr>\n",
       "    <tr>\n",
       "      <th>...</th>\n",
       "      <td>...</td>\n",
       "      <td>...</td>\n",
       "      <td>...</td>\n",
       "    </tr>\n",
       "    <tr>\n",
       "      <th>1211470</th>\n",
       "      <td>zzz7jpx6h6yk34srl558w4zg2eu4h4pm_1</td>\n",
       "      <td>1585921127</td>\n",
       "      <td>9200000065118578</td>\n",
       "    </tr>\n",
       "    <tr>\n",
       "      <th>1211471</th>\n",
       "      <td>zzz7jpx6h6yk34srl558w4zg2eu4h4pm_1</td>\n",
       "      <td>1585921160</td>\n",
       "      <td>9200000065118570</td>\n",
       "    </tr>\n",
       "    <tr>\n",
       "      <th>1211472</th>\n",
       "      <td>zzz7jpx6h6yk34srl558w4zg2eu4h4pm_1</td>\n",
       "      <td>1585921286</td>\n",
       "      <td>9200000064417495</td>\n",
       "    </tr>\n",
       "    <tr>\n",
       "      <th>1211473</th>\n",
       "      <td>zzzjsuzmx87wcp4720be75zq67m2hkx9_14</td>\n",
       "      <td>1585944407</td>\n",
       "      <td>9200000026328200</td>\n",
       "    </tr>\n",
       "    <tr>\n",
       "      <th>1211474</th>\n",
       "      <td>zzzjsuzmx87wcp4720be75zq67m2hkx9_14</td>\n",
       "      <td>1585944411</td>\n",
       "      <td>9200000056545883</td>\n",
       "    </tr>\n",
       "  </tbody>\n",
       "</table>\n",
       "<p>1211475 rows × 3 columns</p>\n",
       "</div>"
      ],
      "text/plain": [
       "                                   SessionId        Time            ItemId\n",
       "0                              0008019740_18  1585897352  9200000083733268\n",
       "1                              0008019740_18  1585897382  9200000049819763\n",
       "2                              0008019740_18  1585897392  9200000066323079\n",
       "3                              0008019740_18  1585897506  9200000081546242\n",
       "4                              0008019740_18  1585897633  9200000125623273\n",
       "...                                      ...         ...               ...\n",
       "1211470   zzz7jpx6h6yk34srl558w4zg2eu4h4pm_1  1585921127  9200000065118578\n",
       "1211471   zzz7jpx6h6yk34srl558w4zg2eu4h4pm_1  1585921160  9200000065118570\n",
       "1211472   zzz7jpx6h6yk34srl558w4zg2eu4h4pm_1  1585921286  9200000064417495\n",
       "1211473  zzzjsuzmx87wcp4720be75zq67m2hkx9_14  1585944407  9200000026328200\n",
       "1211474  zzzjsuzmx87wcp4720be75zq67m2hkx9_14  1585944411  9200000056545883\n",
       "\n",
       "[1211475 rows x 3 columns]"
      ]
     },
     "execution_count": 2,
     "metadata": {},
     "output_type": "execute_result"
    }
   ],
   "source": [
    "df = pd.read_csv('../../projects/data/bolcom-clicks-35m_test.txt', sep='\\t')\n",
    "df\n"
   ]
  },
  {
   "cell_type": "code",
   "execution_count": 3,
   "id": "22ad082f",
   "metadata": {},
   "outputs": [],
   "source": [
    "def create_index_df_from_column(argument_df, columnname):\n",
    "    # create an index for the training item_ids, because we need this when training the model\n",
    "    # this should be part of the train and serve code of an algorithm\n",
    "    # usage:\n",
    "    #     create_index_df_from_column(df, 'ItemId')\n",
    "    # returns a two column dataframe:\n",
    "    #   ItemId  idx\n",
    "    #   9200000105095118    0\n",
    "    #   9200000041902190    1\n",
    "    #   9200000095595490    2\n",
    "    token_id = {t: i for i, t in enumerate(argument_df[columnname].unique())}\n",
    "    df_index = pd.DataFrame.from_dict(token_id, orient=\"index\").reset_index()\n",
    "    df_index.rename(columns={\"index\": columnname, 0: \"idx\"}, inplace=True)\n",
    "    return df_index"
   ]
  },
  {
   "cell_type": "code",
   "execution_count": 4,
   "id": "9a450281",
   "metadata": {},
   "outputs": [
    {
     "data": {
      "text/html": [
       "<div>\n",
       "<style scoped>\n",
       "    .dataframe tbody tr th:only-of-type {\n",
       "        vertical-align: middle;\n",
       "    }\n",
       "\n",
       "    .dataframe tbody tr th {\n",
       "        vertical-align: top;\n",
       "    }\n",
       "\n",
       "    .dataframe thead th {\n",
       "        text-align: right;\n",
       "    }\n",
       "</style>\n",
       "<table border=\"1\" class=\"dataframe\">\n",
       "  <thead>\n",
       "    <tr style=\"text-align: right;\">\n",
       "      <th></th>\n",
       "      <th>ItemId</th>\n",
       "      <th>qty</th>\n",
       "      <th>idx</th>\n",
       "    </tr>\n",
       "  </thead>\n",
       "  <tbody>\n",
       "    <tr>\n",
       "      <th>0</th>\n",
       "      <td>9200000092996478</td>\n",
       "      <td>1</td>\n",
       "      <td>0</td>\n",
       "    </tr>\n",
       "    <tr>\n",
       "      <th>1</th>\n",
       "      <td>9200000066211433</td>\n",
       "      <td>1</td>\n",
       "      <td>1</td>\n",
       "    </tr>\n",
       "    <tr>\n",
       "      <th>2</th>\n",
       "      <td>9200000123889779</td>\n",
       "      <td>1</td>\n",
       "      <td>2</td>\n",
       "    </tr>\n",
       "    <tr>\n",
       "      <th>3</th>\n",
       "      <td>9200000066211493</td>\n",
       "      <td>1</td>\n",
       "      <td>3</td>\n",
       "    </tr>\n",
       "    <tr>\n",
       "      <th>4</th>\n",
       "      <td>9200000066211497</td>\n",
       "      <td>1</td>\n",
       "      <td>4</td>\n",
       "    </tr>\n",
       "    <tr>\n",
       "      <th>...</th>\n",
       "      <td>...</td>\n",
       "      <td>...</td>\n",
       "      <td>...</td>\n",
       "    </tr>\n",
       "    <tr>\n",
       "      <th>338412</th>\n",
       "      <td>9200000110533529</td>\n",
       "      <td>2073</td>\n",
       "      <td>338412</td>\n",
       "    </tr>\n",
       "    <tr>\n",
       "      <th>338413</th>\n",
       "      <td>9200000056292168</td>\n",
       "      <td>2177</td>\n",
       "      <td>338413</td>\n",
       "    </tr>\n",
       "    <tr>\n",
       "      <th>338414</th>\n",
       "      <td>9200000026848187</td>\n",
       "      <td>2186</td>\n",
       "      <td>338414</td>\n",
       "    </tr>\n",
       "    <tr>\n",
       "      <th>338415</th>\n",
       "      <td>9200000047735877</td>\n",
       "      <td>2224</td>\n",
       "      <td>338415</td>\n",
       "    </tr>\n",
       "    <tr>\n",
       "      <th>338416</th>\n",
       "      <td>9200000133200530</td>\n",
       "      <td>2336</td>\n",
       "      <td>338416</td>\n",
       "    </tr>\n",
       "  </tbody>\n",
       "</table>\n",
       "<p>338417 rows × 3 columns</p>\n",
       "</div>"
      ],
      "text/plain": [
       "                  ItemId   qty     idx\n",
       "0       9200000092996478     1       0\n",
       "1       9200000066211433     1       1\n",
       "2       9200000123889779     1       2\n",
       "3       9200000066211493     1       3\n",
       "4       9200000066211497     1       4\n",
       "...                  ...   ...     ...\n",
       "338412  9200000110533529  2073  338412\n",
       "338413  9200000056292168  2177  338413\n",
       "338414  9200000026848187  2186  338414\n",
       "338415  9200000047735877  2224  338415\n",
       "338416  9200000133200530  2336  338416\n",
       "\n",
       "[338417 rows x 3 columns]"
      ]
     },
     "execution_count": 4,
     "metadata": {},
     "output_type": "execute_result"
    }
   ],
   "source": [
    "item_pop_df = df.groupby('ItemId').size()\n",
    "item_pops_df = item_pop_df.to_frame('qty').reset_index()\n",
    "item_pops_df.sort_values(by=['qty'], inplace=True)\n",
    "item_idx = create_index_df_from_column(item_pops_df, 'ItemId')\n",
    "dfs = item_pops_df.merge(item_idx, on='ItemId')\n",
    "dfs"
   ]
  },
  {
   "cell_type": "code",
   "execution_count": 5,
   "id": "784132f2",
   "metadata": {},
   "outputs": [
    {
     "data": {
      "text/plain": [
       "array([8.25440063e-07, 8.25440063e-07, 8.25440063e-07, ...,\n",
       "       1.80441198e-03, 1.83577870e-03, 1.92822799e-03])"
      ]
     },
     "execution_count": 5,
     "metadata": {},
     "output_type": "execute_result"
    }
   ],
   "source": [
    "freq_list = dfs['qty'].to_numpy()\n",
    "idx_list = dfs['idx'].to_numpy()\n",
    "p_obs = freq_list / np.sum(freq_list)\n",
    "p_obs"
   ]
  },
  {
   "cell_type": "code",
   "execution_count": 6,
   "id": "0abddeef",
   "metadata": {},
   "outputs": [],
   "source": [
    "cdf_obs = np.cumsum(p_obs)    # cumulative distribution function of a random variable"
   ]
  },
  {
   "cell_type": "code",
   "execution_count": 7,
   "id": "e3db0dcc",
   "metadata": {},
   "outputs": [
    {
     "data": {
      "image/png": "[encoded data removed]",
      "text/plain": [
       "<Figure size 640x480 with 1 Axes>"
      ]
     },
     "metadata": {},
     "output_type": "display_data"
    }
   ],
   "source": [
    "import matplotlib.pyplot as plt\n",
    "plt.plot(idx_list, cdf_obs)\n",
    "plt.xlabel('item idx')\n",
    "plt.ylabel('observed proba')\n",
    "plt.show()"
   ]
  },
  {
   "cell_type": "code",
   "execution_count": 8,
   "id": "3c175152",
   "metadata": {},
   "outputs": [],
   "source": [
    "# Estimate the power-law exponent from the observed frequencies\n",
    "log_freq = np.log(freq_list)\n",
    "log_rank = np.log(idx_list + 1)\n",
    "c, k = np.polyfit(log_rank, log_freq, deg=1)"
   ]
  },
  {
   "cell_type": "code",
   "execution_count": 9,
   "id": "0ac741bf",
   "metadata": {},
   "outputs": [
    {
     "data": {
      "text/plain": [
       "(0.5453273807817727, -5.691625174940446)"
      ]
     },
     "execution_count": 9,
     "metadata": {},
     "output_type": "execute_result"
    }
   ],
   "source": [
    "c,k"
   ]
  },
  {
   "cell_type": "code",
   "execution_count": 10,
   "id": "183c34eb",
   "metadata": {},
   "outputs": [],
   "source": [
    "# Generate probabilities for new items\n",
    "m = 500000  # number of new items\n",
    "new_idx_list = np.arange(len(idx_list), len(idx_list) + m)\n",
    "log_p_new = -k * np.log(new_idx_list + 1) + np.log(c)\n",
    "p_new = np.exp(log_p_new) / np.sum(np.exp(log_p_new))"
   ]
  },
  {
   "cell_type": "code",
   "execution_count": 11,
   "id": "d1cbd420",
   "metadata": {},
   "outputs": [],
   "source": [
    "# Combine the observed and new item probabilities\n",
    "p_all = np.concatenate([p_obs, p_new])\n",
    "p_all = np.sort(p_all)\n",
    "p_all = p_all / np.sum(p_all)"
   ]
  },
  {
   "cell_type": "code",
   "execution_count": 12,
   "id": "a611147f",
   "metadata": {},
   "outputs": [],
   "source": [
    "# Use linear interpolation to create a mapping between the cumulative probabilities and the item IDs\n",
    "cdf = np.cumsum(p_all)\n",
    "inv_cdf = interpolate.interp1d(cdf, np.arange(len(p_all)), kind='linear', bounds_error=False, fill_value=(p_all[0], p_all[-1]))\n"
   ]
  },
  {
   "cell_type": "code",
   "execution_count": 13,
   "id": "f219525a",
   "metadata": {},
   "outputs": [
    {
     "name": "stdout",
     "output_type": "stream",
     "text": [
      "Sampled item 312904 with frequency 0.1\n",
      "Sampled item 364974 with frequency 0.1\n",
      "Sampled item 716739 with frequency 0.1\n",
      "Sampled item 738158 with frequency 0.1\n",
      "Sampled item 767180 with frequency 0.1\n",
      "Sampled item 769155 with frequency 0.1\n",
      "Sampled item 818101 with frequency 0.1\n",
      "Sampled item 825846 with frequency 0.1\n",
      "Sampled item 834402 with frequency 0.1\n",
      "Sampled item 836932 with frequency 0.1\n"
     ]
    }
   ],
   "source": [
    "# Sample new items from the distribution\n",
    "u = np.random.uniform(size=10)\n",
    "idx = (np.rint(inv_cdf(u))).astype(int)\n",
    "samples = idx\n",
    "        \n",
    "# Print the samples and their probabilities\n",
    "for item, freq in zip(*np.unique(samples, return_counts=True)):\n",
    "    print(f\"Sampled item {item} with frequency {freq / len(samples)}\")"
   ]
  },
  {
   "cell_type": "code",
   "execution_count": null,
   "id": "47777b4d",
   "metadata": {},
   "outputs": [],
   "source": []
  },
  {
   "cell_type": "code",
   "execution_count": 14,
   "id": "64158925",
   "metadata": {},
   "outputs": [
    {
     "data": {
      "image/png": "[encoded data removed]",
      "text/plain": [
       "<Figure size 640x480 with 1 Axes>"
      ]
     },
     "metadata": {},
     "output_type": "display_data"
    }
   ],
   "source": [
    "\n",
    "max_i = 10000\n",
    "u = [i/max_i for i in range(max_i + 1)]\n",
    "X = (np.rint(inv_cdf(u))).astype(int)\n",
    "plt.title('custom')\n",
    "plt.scatter(X, u, marker='.', alpha=0.01)\n",
    "plt.plot(idx_list, cdf_obs)\n",
    "plt.xlabel('item idx')\n",
    "plt.ylabel('proba observation')\n",
    "plt.show()"
   ]
  },
  {
   "cell_type": "code",
   "execution_count": 15,
   "id": "be666843",
   "metadata": {},
   "outputs": [
    {
     "name": "stdout",
     "output_type": "stream",
     "text": [
      "KL-divergence observed to synthetic: 0.34468472305773246\n",
      "KL-divergence synthetic to observed: 0.20822646309680742\n"
     ]
    }
   ],
   "source": [
    "kl_divergence_obs_synth = entropy(p_obs, p_new[:len(p_obs)])\n",
    "print(f\"KL-divergence observed to synthetic: {kl_divergence_obs_synth}\")\n",
    "kl_divergence_synth_obs = entropy(p_new[:len(p_obs)], p_obs)\n",
    "print(f\"KL-divergence synthetic to observed: {kl_divergence_synth_obs}\")\n"
   ]
  },
  {
   "cell_type": "code",
   "execution_count": 16,
   "id": "6d34dbf5",
   "metadata": {},
   "outputs": [
    {
     "name": "stdout",
     "output_type": "stream",
     "text": [
      "MAE: 0.0000, RMSE: 0.0000, KS: 0.7631\n"
     ]
    }
   ],
   "source": [
    "mae = np.mean(np.abs(p_obs - p_new[:len(p_obs)]))  # mean absolute error\n",
    "rmse = np.sqrt(np.mean(np.square(p_obs - p_new[:len(p_obs)])))  # root mean squared error\n",
    "ks = np.max(np.abs(np.cumsum(p_obs) - np.cumsum(p_new[:len(p_obs)])))  # Kolmogorov-Smirnov statistic\n",
    "print(f\"MAE: {mae:.4f}, RMSE: {rmse:.4f}, KS: {ks:.4f}\")"
   ]
  },
  {
   "cell_type": "code",
   "execution_count": null,
   "id": "7a35f173",
   "metadata": {},
   "outputs": [],
   "source": []
  },
  {
   "cell_type": "code",
   "execution_count": null,
   "id": "5f39606e",
   "metadata": {},
   "outputs": [],
   "source": []
  }
 ],
 "metadata": {
  "kernelspec": {
   "display_name": "Python 3 (ipykernel)",
   "language": "python",
   "name": "python3"
  },
  "language_info": {
   "codemirror_mode": {
    "name": "ipython",
    "version": 3
   },
   "file_extension": ".py",
   "mimetype": "text/x-python",
   "name": "python",
   "nbconvert_exporter": "python",
   "pygments_lexer": "ipython3",
   "version": "3.9.6"
  }
 },
 "nbformat": 4,
 "nbformat_minor": 5
}
