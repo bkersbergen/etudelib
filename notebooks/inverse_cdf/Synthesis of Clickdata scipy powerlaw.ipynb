{
 "cells": [
  {
   "cell_type": "code",
   "execution_count": 2,
   "id": "e7e6a072",
   "metadata": {
    "scrolled": true
   },
   "outputs": [],
   "source": [
    "import numpy as np\n",
    "import math\n",
    "import matplotlib.pyplot as plt\n",
    "from scipy import stats\n",
    "from scipy.stats import entropy, powerlaw\n",
    "from scipy import interpolate\n",
    "from scipy.optimize import curve_fit\n",
    "import pandas as pd"
   ]
  },
  {
   "cell_type": "code",
   "execution_count": 3,
   "id": "89f76286",
   "metadata": {
    "scrolled": true
   },
   "outputs": [
    {
     "data": {
      "text/html": [
       "<div>\n",
       "<style scoped>\n",
       "    .dataframe tbody tr th:only-of-type {\n",
       "        vertical-align: middle;\n",
       "    }\n",
       "\n",
       "    .dataframe tbody tr th {\n",
       "        vertical-align: top;\n",
       "    }\n",
       "\n",
       "    .dataframe thead th {\n",
       "        text-align: right;\n",
       "    }\n",
       "</style>\n",
       "<table border=\"1\" class=\"dataframe\">\n",
       "  <thead>\n",
       "    <tr style=\"text-align: right;\">\n",
       "      <th></th>\n",
       "      <th>SessionId</th>\n",
       "      <th>Time</th>\n",
       "      <th>ItemId</th>\n",
       "    </tr>\n",
       "  </thead>\n",
       "  <tbody>\n",
       "    <tr>\n",
       "      <th>0</th>\n",
       "      <td>0008019740_18</td>\n",
       "      <td>1585897352</td>\n",
       "      <td>9200000083733268</td>\n",
       "    </tr>\n",
       "    <tr>\n",
       "      <th>1</th>\n",
       "      <td>0008019740_18</td>\n",
       "      <td>1585897382</td>\n",
       "      <td>9200000049819763</td>\n",
       "    </tr>\n",
       "    <tr>\n",
       "      <th>2</th>\n",
       "      <td>0008019740_18</td>\n",
       "      <td>1585897392</td>\n",
       "      <td>9200000066323079</td>\n",
       "    </tr>\n",
       "    <tr>\n",
       "      <th>3</th>\n",
       "      <td>0008019740_18</td>\n",
       "      <td>1585897506</td>\n",
       "      <td>9200000081546242</td>\n",
       "    </tr>\n",
       "    <tr>\n",
       "      <th>4</th>\n",
       "      <td>0008019740_18</td>\n",
       "      <td>1585897633</td>\n",
       "      <td>9200000125623273</td>\n",
       "    </tr>\n",
       "    <tr>\n",
       "      <th>...</th>\n",
       "      <td>...</td>\n",
       "      <td>...</td>\n",
       "      <td>...</td>\n",
       "    </tr>\n",
       "    <tr>\n",
       "      <th>1211470</th>\n",
       "      <td>zzz7jpx6h6yk34srl558w4zg2eu4h4pm_1</td>\n",
       "      <td>1585921127</td>\n",
       "      <td>9200000065118578</td>\n",
       "    </tr>\n",
       "    <tr>\n",
       "      <th>1211471</th>\n",
       "      <td>zzz7jpx6h6yk34srl558w4zg2eu4h4pm_1</td>\n",
       "      <td>1585921160</td>\n",
       "      <td>9200000065118570</td>\n",
       "    </tr>\n",
       "    <tr>\n",
       "      <th>1211472</th>\n",
       "      <td>zzz7jpx6h6yk34srl558w4zg2eu4h4pm_1</td>\n",
       "      <td>1585921286</td>\n",
       "      <td>9200000064417495</td>\n",
       "    </tr>\n",
       "    <tr>\n",
       "      <th>1211473</th>\n",
       "      <td>zzzjsuzmx87wcp4720be75zq67m2hkx9_14</td>\n",
       "      <td>1585944407</td>\n",
       "      <td>9200000026328200</td>\n",
       "    </tr>\n",
       "    <tr>\n",
       "      <th>1211474</th>\n",
       "      <td>zzzjsuzmx87wcp4720be75zq67m2hkx9_14</td>\n",
       "      <td>1585944411</td>\n",
       "      <td>9200000056545883</td>\n",
       "    </tr>\n",
       "  </tbody>\n",
       "</table>\n",
       "<p>1211475 rows × 3 columns</p>\n",
       "</div>"
      ],
      "text/plain": [
       "                                   SessionId        Time            ItemId\n",
       "0                              0008019740_18  1585897352  9200000083733268\n",
       "1                              0008019740_18  1585897382  9200000049819763\n",
       "2                              0008019740_18  1585897392  9200000066323079\n",
       "3                              0008019740_18  1585897506  9200000081546242\n",
       "4                              0008019740_18  1585897633  9200000125623273\n",
       "...                                      ...         ...               ...\n",
       "1211470   zzz7jpx6h6yk34srl558w4zg2eu4h4pm_1  1585921127  9200000065118578\n",
       "1211471   zzz7jpx6h6yk34srl558w4zg2eu4h4pm_1  1585921160  9200000065118570\n",
       "1211472   zzz7jpx6h6yk34srl558w4zg2eu4h4pm_1  1585921286  9200000064417495\n",
       "1211473  zzzjsuzmx87wcp4720be75zq67m2hkx9_14  1585944407  9200000026328200\n",
       "1211474  zzzjsuzmx87wcp4720be75zq67m2hkx9_14  1585944411  9200000056545883\n",
       "\n",
       "[1211475 rows x 3 columns]"
      ]
     },
     "execution_count": 3,
     "metadata": {},
     "output_type": "execute_result"
    }
   ],
   "source": [
    "df = pd.read_csv('../../projects/data/bolcom-clicks-35m_test.txt', sep='\\t')\n",
    "df\n"
   ]
  },
  {
   "cell_type": "code",
   "execution_count": 4,
   "id": "eeea90d0",
   "metadata": {
    "scrolled": true
   },
   "outputs": [],
   "source": [
    "def create_index_df_from_column(argument_df, columnname):\n",
    "    # create an index for the training item_ids, because we need this when training the model\n",
    "    # this should be part of the train and serve code of an algorithm\n",
    "    # usage:\n",
    "    #     create_index_df_from_column(df, 'ItemId')\n",
    "    # returns a two column dataframe:\n",
    "    #   ItemId  idx\n",
    "    #   9200000105095118    0\n",
    "    #   9200000041902190    1\n",
    "    #   9200000095595490    2\n",
    "    token_id = {t: i for i, t in enumerate(argument_df[columnname].unique())}\n",
    "    df_index = pd.DataFrame.from_dict(token_id, orient=\"index\").reset_index()\n",
    "    df_index.rename(columns={\"index\": columnname, 0: \"idx\"}, inplace=True)\n",
    "    return df_index"
   ]
  },
  {
   "cell_type": "code",
   "execution_count": 5,
   "id": "4de5ad8b",
   "metadata": {
    "scrolled": true
   },
   "outputs": [
    {
     "data": {
      "text/html": [
       "<div>\n",
       "<style scoped>\n",
       "    .dataframe tbody tr th:only-of-type {\n",
       "        vertical-align: middle;\n",
       "    }\n",
       "\n",
       "    .dataframe tbody tr th {\n",
       "        vertical-align: top;\n",
       "    }\n",
       "\n",
       "    .dataframe thead th {\n",
       "        text-align: right;\n",
       "    }\n",
       "</style>\n",
       "<table border=\"1\" class=\"dataframe\">\n",
       "  <thead>\n",
       "    <tr style=\"text-align: right;\">\n",
       "      <th></th>\n",
       "      <th>ItemId</th>\n",
       "      <th>qty</th>\n",
       "      <th>idx</th>\n",
       "    </tr>\n",
       "  </thead>\n",
       "  <tbody>\n",
       "    <tr>\n",
       "      <th>0</th>\n",
       "      <td>9200000092996478</td>\n",
       "      <td>1</td>\n",
       "      <td>0</td>\n",
       "    </tr>\n",
       "    <tr>\n",
       "      <th>1</th>\n",
       "      <td>9200000066211433</td>\n",
       "      <td>1</td>\n",
       "      <td>1</td>\n",
       "    </tr>\n",
       "    <tr>\n",
       "      <th>2</th>\n",
       "      <td>9200000123889779</td>\n",
       "      <td>1</td>\n",
       "      <td>2</td>\n",
       "    </tr>\n",
       "    <tr>\n",
       "      <th>3</th>\n",
       "      <td>9200000066211493</td>\n",
       "      <td>1</td>\n",
       "      <td>3</td>\n",
       "    </tr>\n",
       "    <tr>\n",
       "      <th>4</th>\n",
       "      <td>9200000066211497</td>\n",
       "      <td>1</td>\n",
       "      <td>4</td>\n",
       "    </tr>\n",
       "    <tr>\n",
       "      <th>...</th>\n",
       "      <td>...</td>\n",
       "      <td>...</td>\n",
       "      <td>...</td>\n",
       "    </tr>\n",
       "    <tr>\n",
       "      <th>338412</th>\n",
       "      <td>9200000110533529</td>\n",
       "      <td>2073</td>\n",
       "      <td>338412</td>\n",
       "    </tr>\n",
       "    <tr>\n",
       "      <th>338413</th>\n",
       "      <td>9200000056292168</td>\n",
       "      <td>2177</td>\n",
       "      <td>338413</td>\n",
       "    </tr>\n",
       "    <tr>\n",
       "      <th>338414</th>\n",
       "      <td>9200000026848187</td>\n",
       "      <td>2186</td>\n",
       "      <td>338414</td>\n",
       "    </tr>\n",
       "    <tr>\n",
       "      <th>338415</th>\n",
       "      <td>9200000047735877</td>\n",
       "      <td>2224</td>\n",
       "      <td>338415</td>\n",
       "    </tr>\n",
       "    <tr>\n",
       "      <th>338416</th>\n",
       "      <td>9200000133200530</td>\n",
       "      <td>2336</td>\n",
       "      <td>338416</td>\n",
       "    </tr>\n",
       "  </tbody>\n",
       "</table>\n",
       "<p>338417 rows × 3 columns</p>\n",
       "</div>"
      ],
      "text/plain": [
       "                  ItemId   qty     idx\n",
       "0       9200000092996478     1       0\n",
       "1       9200000066211433     1       1\n",
       "2       9200000123889779     1       2\n",
       "3       9200000066211493     1       3\n",
       "4       9200000066211497     1       4\n",
       "...                  ...   ...     ...\n",
       "338412  9200000110533529  2073  338412\n",
       "338413  9200000056292168  2177  338413\n",
       "338414  9200000026848187  2186  338414\n",
       "338415  9200000047735877  2224  338415\n",
       "338416  9200000133200530  2336  338416\n",
       "\n",
       "[338417 rows x 3 columns]"
      ]
     },
     "execution_count": 5,
     "metadata": {},
     "output_type": "execute_result"
    }
   ],
   "source": [
    "item_pop_df = df.groupby('ItemId').size()\n",
    "item_pops_df = item_pop_df.to_frame('qty').reset_index()\n",
    "item_pops_df.sort_values(by=['qty'], inplace=True)\n",
    "item_idx = create_index_df_from_column(item_pops_df, 'ItemId')\n",
    "dfs = item_pops_df.merge(item_idx, on='ItemId')\n",
    "dfs"
   ]
  },
  {
   "cell_type": "code",
   "execution_count": 27,
   "id": "b0069aa1",
   "metadata": {
    "scrolled": false
   },
   "outputs": [],
   "source": [
    "# Observed frequencies to observed probability\n",
    "f_obs = dfs['qty'].to_numpy()"
   ]
  },
  {
   "cell_type": "code",
   "execution_count": 28,
   "id": "39db699d",
   "metadata": {
    "scrolled": true
   },
   "outputs": [],
   "source": [
    "# Fit the power law distribution to the observed probability of the items \n",
    "fit_params = powerlaw.fit(f_obs)"
   ]
  },
  {
   "cell_type": "code",
   "execution_count": null,
   "id": "a5761849",
   "metadata": {},
   "outputs": [],
   "source": []
  },
  {
   "cell_type": "code",
   "execution_count": null,
   "id": "0b4ba144",
   "metadata": {},
   "outputs": [],
   "source": []
  },
  {
   "cell_type": "code",
   "execution_count": 29,
   "id": "cba0d875",
   "metadata": {
    "scrolled": true
   },
   "outputs": [
    {
     "data": {
      "text/plain": [
       "array([   1,    1,    1, ..., 2336, 2336, 2336])"
      ]
     },
     "execution_count": 29,
     "metadata": {},
     "output_type": "execute_result"
    }
   ],
   "source": [
    "# Generate frequencies for new items\n",
    "m = len(dfs)  # number of new items\n",
    "f_new = powerlaw.rvs(*fit_params, size=m)\n",
    "f_new = (np.rint(f_new)).astype(int)\n",
    "f_new = np.sort(f_new)\n",
    "\n",
    "f_new"
   ]
  },
  {
   "cell_type": "code",
   "execution_count": null,
   "id": "15b673cb",
   "metadata": {
    "scrolled": true
   },
   "outputs": [],
   "source": []
  },
  {
   "cell_type": "code",
   "execution_count": null,
   "id": "d091c55e",
   "metadata": {
    "scrolled": true
   },
   "outputs": [],
   "source": []
  },
  {
   "cell_type": "code",
   "execution_count": null,
   "id": "c83bd7dd",
   "metadata": {
    "scrolled": true
   },
   "outputs": [],
   "source": []
  },
  {
   "cell_type": "code",
   "execution_count": 34,
   "id": "81dc8da0",
   "metadata": {
    "scrolled": false
   },
   "outputs": [
    {
     "data": {
      "image/png": "[encoded data removed]",
      "text/plain": [
       "<Figure size 640x480 with 1 Axes>"
      ]
     },
     "metadata": {},
     "output_type": "display_data"
    }
   ],
   "source": [
    "plt.title('sampled vs observed data')\n",
    "plt.plot(f_obs, label='observed')\n",
    "plt.plot(f_new, label='sampled')\n",
    "plt.legend(loc='upper left')\n",
    "plt.xlabel('item idx')\n",
    "plt.ylabel('item frequency')\n",
    "plt.show()"
   ]
  },
  {
   "cell_type": "code",
   "execution_count": 35,
   "id": "0cbe6b48",
   "metadata": {},
   "outputs": [],
   "source": [
    "p_obs = f_obs / np.sum(f_obs)\n",
    "p_new = f_new / np.sum(f_new)"
   ]
  },
  {
   "cell_type": "code",
   "execution_count": 36,
   "id": "f85842f2",
   "metadata": {
    "scrolled": false
   },
   "outputs": [
    {
     "name": "stdout",
     "output_type": "stream",
     "text": [
      "KL-divergence observed to synthetic: 1.1901075508621057\n",
      "KL-divergence synthetic to observed: 0.5900004653875549\n"
     ]
    }
   ],
   "source": [
    "kl_divergence_obs_synth = entropy(p_obs, p_new)\n",
    "print(f\"KL-divergence observed to synthetic: {kl_divergence_obs_synth}\")\n",
    "kl_divergence_synth_obs = entropy(p_new, p_obs)\n",
    "print(f\"KL-divergence synthetic to observed: {kl_divergence_synth_obs}\")\n"
   ]
  },
  {
   "cell_type": "code",
   "execution_count": 37,
   "id": "91c1da79",
   "metadata": {
    "scrolled": true
   },
   "outputs": [
    {
     "name": "stdout",
     "output_type": "stream",
     "text": [
      "MAE: 0.0000, RMSE: 0.0000, KS: 0.4228\n"
     ]
    }
   ],
   "source": [
    "mae = np.mean(np.abs(p_obs - p_new))  # mean absolute error\n",
    "rmse = np.sqrt(np.mean(np.square(p_obs - p_new)))  # root mean squared error\n",
    "ks = np.max(np.abs(np.cumsum(p_obs) - np.cumsum(p_new)))  # Kolmogorov-Smirnov statistic\n",
    "print(f\"MAE: {mae:.4f}, RMSE: {rmse:.4f}, KS: {ks:.4f}\")"
   ]
  },
  {
   "cell_type": "code",
   "execution_count": null,
   "id": "379e8901",
   "metadata": {
    "scrolled": true
   },
   "outputs": [],
   "source": []
  }
 ],
 "metadata": {
  "kernelspec": {
   "display_name": "Python 3 (ipykernel)",
   "language": "python",
   "name": "python3"
  },
  "language_info": {
   "codemirror_mode": {
    "name": "ipython",
    "version": 3
   },
   "file_extension": ".py",
   "mimetype": "text/x-python",
   "name": "python",
   "nbconvert_exporter": "python",
   "pygments_lexer": "ipython3",
   "version": "3.9.6"
  }
 },
 "nbformat": 4,
 "nbformat_minor": 5
}
