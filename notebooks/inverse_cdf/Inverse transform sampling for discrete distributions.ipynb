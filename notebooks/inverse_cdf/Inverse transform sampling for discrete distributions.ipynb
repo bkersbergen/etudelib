{
 "cells": [
  {
   "cell_type": "code",
   "execution_count": 185,
   "id": "5d0d4e67",
   "metadata": {},
   "outputs": [],
   "source": [
    "import pandas as pd\n",
    "import numpy as np\n",
    "from numpy.random import random\n",
    "from scipy import interpolate\n",
    "import matplotlib.pyplot as plt\n",
    "import random\n",
    "import math"
   ]
  },
  {
   "cell_type": "code",
   "execution_count": 2,
   "id": "55e9ff15",
   "metadata": {},
   "outputs": [
    {
     "data": {
      "text/html": [
       "<div>\n",
       "<style scoped>\n",
       "    .dataframe tbody tr th:only-of-type {\n",
       "        vertical-align: middle;\n",
       "    }\n",
       "\n",
       "    .dataframe tbody tr th {\n",
       "        vertical-align: top;\n",
       "    }\n",
       "\n",
       "    .dataframe thead th {\n",
       "        text-align: right;\n",
       "    }\n",
       "</style>\n",
       "<table border=\"1\" class=\"dataframe\">\n",
       "  <thead>\n",
       "    <tr style=\"text-align: right;\">\n",
       "      <th></th>\n",
       "      <th>SessionId</th>\n",
       "      <th>Time</th>\n",
       "      <th>ItemId</th>\n",
       "    </tr>\n",
       "  </thead>\n",
       "  <tbody>\n",
       "    <tr>\n",
       "      <th>0</th>\n",
       "      <td>0008019740_18</td>\n",
       "      <td>1585897352</td>\n",
       "      <td>9200000083733268</td>\n",
       "    </tr>\n",
       "    <tr>\n",
       "      <th>1</th>\n",
       "      <td>0008019740_18</td>\n",
       "      <td>1585897382</td>\n",
       "      <td>9200000049819763</td>\n",
       "    </tr>\n",
       "    <tr>\n",
       "      <th>2</th>\n",
       "      <td>0008019740_18</td>\n",
       "      <td>1585897392</td>\n",
       "      <td>9200000066323079</td>\n",
       "    </tr>\n",
       "    <tr>\n",
       "      <th>3</th>\n",
       "      <td>0008019740_18</td>\n",
       "      <td>1585897506</td>\n",
       "      <td>9200000081546242</td>\n",
       "    </tr>\n",
       "    <tr>\n",
       "      <th>4</th>\n",
       "      <td>0008019740_18</td>\n",
       "      <td>1585897633</td>\n",
       "      <td>9200000125623273</td>\n",
       "    </tr>\n",
       "    <tr>\n",
       "      <th>...</th>\n",
       "      <td>...</td>\n",
       "      <td>...</td>\n",
       "      <td>...</td>\n",
       "    </tr>\n",
       "    <tr>\n",
       "      <th>1211470</th>\n",
       "      <td>zzz7jpx6h6yk34srl558w4zg2eu4h4pm_1</td>\n",
       "      <td>1585921127</td>\n",
       "      <td>9200000065118578</td>\n",
       "    </tr>\n",
       "    <tr>\n",
       "      <th>1211471</th>\n",
       "      <td>zzz7jpx6h6yk34srl558w4zg2eu4h4pm_1</td>\n",
       "      <td>1585921160</td>\n",
       "      <td>9200000065118570</td>\n",
       "    </tr>\n",
       "    <tr>\n",
       "      <th>1211472</th>\n",
       "      <td>zzz7jpx6h6yk34srl558w4zg2eu4h4pm_1</td>\n",
       "      <td>1585921286</td>\n",
       "      <td>9200000064417495</td>\n",
       "    </tr>\n",
       "    <tr>\n",
       "      <th>1211473</th>\n",
       "      <td>zzzjsuzmx87wcp4720be75zq67m2hkx9_14</td>\n",
       "      <td>1585944407</td>\n",
       "      <td>9200000026328200</td>\n",
       "    </tr>\n",
       "    <tr>\n",
       "      <th>1211474</th>\n",
       "      <td>zzzjsuzmx87wcp4720be75zq67m2hkx9_14</td>\n",
       "      <td>1585944411</td>\n",
       "      <td>9200000056545883</td>\n",
       "    </tr>\n",
       "  </tbody>\n",
       "</table>\n",
       "<p>1211475 rows × 3 columns</p>\n",
       "</div>"
      ],
      "text/plain": [
       "                                   SessionId        Time            ItemId\n",
       "0                              0008019740_18  1585897352  9200000083733268\n",
       "1                              0008019740_18  1585897382  9200000049819763\n",
       "2                              0008019740_18  1585897392  9200000066323079\n",
       "3                              0008019740_18  1585897506  9200000081546242\n",
       "4                              0008019740_18  1585897633  9200000125623273\n",
       "...                                      ...         ...               ...\n",
       "1211470   zzz7jpx6h6yk34srl558w4zg2eu4h4pm_1  1585921127  9200000065118578\n",
       "1211471   zzz7jpx6h6yk34srl558w4zg2eu4h4pm_1  1585921160  9200000065118570\n",
       "1211472   zzz7jpx6h6yk34srl558w4zg2eu4h4pm_1  1585921286  9200000064417495\n",
       "1211473  zzzjsuzmx87wcp4720be75zq67m2hkx9_14  1585944407  9200000026328200\n",
       "1211474  zzzjsuzmx87wcp4720be75zq67m2hkx9_14  1585944411  9200000056545883\n",
       "\n",
       "[1211475 rows x 3 columns]"
      ]
     },
     "execution_count": 2,
     "metadata": {},
     "output_type": "execute_result"
    }
   ],
   "source": [
    "df = pd.read_csv('../../projects/data/bolcom-clicks-35m_test.txt', sep='\\t')\n",
    "df"
   ]
  },
  {
   "cell_type": "code",
   "execution_count": 3,
   "id": "e8a2b9d3",
   "metadata": {},
   "outputs": [],
   "source": [
    "x = np.array(df.groupby('SessionId').size())"
   ]
  },
  {
   "cell_type": "code",
   "execution_count": 4,
   "id": "285f15fe",
   "metadata": {},
   "outputs": [
    {
     "data": {
      "text/plain": [
       "6.381591769868152"
      ]
     },
     "execution_count": 4,
     "metadata": {},
     "output_type": "execute_result"
    }
   ],
   "source": [
    "x.mean()"
   ]
  },
  {
   "cell_type": "code",
   "execution_count": 5,
   "id": "ec1bab32",
   "metadata": {},
   "outputs": [
    {
     "data": {
      "text/plain": [
       "(array([  2,   3,   4,   5,   6,   7,   8,   9,  10,  11,  12,  13,  14,\n",
       "         15,  16,  17,  18,  19,  20,  21,  22,  23,  24,  25,  26,  27,\n",
       "         28,  29,  30,  31,  32,  33,  34,  35,  36,  37,  38,  39,  40,\n",
       "         41,  42,  43,  44,  45,  46,  47,  48,  49,  50,  51,  52,  53,\n",
       "         54,  55,  56,  57,  58,  59,  60,  61,  62,  63,  64,  65,  66,\n",
       "         67,  68,  69,  70,  71,  72,  73,  74,  75,  76,  77,  78,  79,\n",
       "         80,  81,  82,  83,  84,  85,  86,  87,  88,  89,  90,  91,  92,\n",
       "         93,  94,  95,  96,  97,  98,  99, 100, 101, 102, 103, 104, 105,\n",
       "        106, 107, 108, 109, 110, 111, 112, 113, 114, 115, 116, 117, 118,\n",
       "        119, 120, 123, 124, 125, 126, 127, 129, 130, 131, 136, 137, 138,\n",
       "        141, 150, 151, 152, 156, 159, 168, 174, 179, 184, 188, 199, 225,\n",
       "        246, 279]),\n",
       " array([50468, 33628, 21486, 16344, 11964,  9386,  7310,  6219,  4725,\n",
       "         3955,  3303,  2718,  2283,  1917,  1642,  1389,  1246,  1053,\n",
       "          955,   794,   732,   615,   520,   486,   449,   383,   363,\n",
       "          320,   276,   243,   242,   199,   166,   168,   136,   123,\n",
       "          140,   110,    97,   103,    84,    86,    64,    53,    52,\n",
       "           69,    56,    52,    41,    38,    26,    29,    31,    22,\n",
       "           26,    25,    27,    42,    23,    15,    12,    15,    13,\n",
       "           15,    12,     7,    14,    12,     9,     7,     7,    10,\n",
       "            6,     4,     5,    12,     4,     6,     7,     5,     8,\n",
       "            5,     4,     6,     2,     7,     6,     5,     2,     2,\n",
       "            3,     5,     3,     2,     1,     4,     1,     2,     3,\n",
       "            3,     2,     1,     3,     1,     2,     1,     3,     3,\n",
       "            2,     3,     1,     3,     1,     2,     1,     2,     1,\n",
       "            1,     1,     1,     2,     2,     1,     1,     1,     2,\n",
       "            1,     1,     1,     1,     1,     2,     1,     1,     3,\n",
       "            1,     1,     1,     1,     1,     1,     1,     1,     1,\n",
       "            1]))"
      ]
     },
     "execution_count": 5,
     "metadata": {},
     "output_type": "execute_result"
    }
   ],
   "source": [
    "unique, counts = np.unique(x, return_counts=True)\n",
    "unique, counts"
   ]
  },
  {
   "cell_type": "code",
   "execution_count": 6,
   "id": "95620b33",
   "metadata": {},
   "outputs": [
    {
     "data": {
      "text/plain": [
       "array([2.65846322e-01, 1.77139576e-01, 1.13180116e-01, 8.60940060e-02,\n",
       "       6.30218238e-02, 4.94418955e-02, 3.85063132e-02, 3.27593382e-02,\n",
       "       2.48895116e-02, 2.08334431e-02, 1.73989539e-02, 1.43173953e-02,\n",
       "       1.20259799e-02, 1.00980304e-02, 8.64943452e-03, 7.31672628e-03,\n",
       "       6.56345640e-03, 5.54680545e-03, 5.03057854e-03, 4.18249148e-03,\n",
       "       3.85589895e-03, 3.23958723e-03, 2.73916319e-03, 2.56006405e-03,\n",
       "       2.36516206e-03, 2.01749904e-03, 1.91214661e-03, 1.68563888e-03,\n",
       "       1.45386354e-03, 1.28003203e-03, 1.27476441e-03, 1.04825668e-03,\n",
       "       8.74425171e-04, 8.84960414e-04, 7.16396525e-04, 6.47917446e-04,\n",
       "       7.37467012e-04, 5.79438366e-04, 5.10959287e-04, 5.42565016e-04,\n",
       "       4.42480207e-04, 4.53015450e-04, 3.37127777e-04, 2.79183940e-04,\n",
       "       2.73916319e-04, 3.63465884e-04, 2.94986805e-04, 2.73916319e-04,\n",
       "       2.15972482e-04, 2.00169617e-04, 1.36958159e-04, 1.52761024e-04,\n",
       "       1.63296267e-04, 1.15887673e-04, 1.36958159e-04, 1.31690538e-04,\n",
       "       1.42225781e-04, 2.21240103e-04, 1.21155295e-04, 7.90143227e-05,\n",
       "       6.32114581e-05, 7.90143227e-05, 6.84790796e-05, 7.90143227e-05,\n",
       "       6.32114581e-05, 3.68733506e-05, 7.37467012e-05, 6.32114581e-05,\n",
       "       4.74085936e-05, 3.68733506e-05, 3.68733506e-05, 5.26762151e-05,\n",
       "       3.16057291e-05, 2.10704860e-05, 2.63381076e-05, 6.32114581e-05,\n",
       "       2.10704860e-05, 3.16057291e-05, 3.68733506e-05, 2.63381076e-05,\n",
       "       4.21409721e-05, 2.63381076e-05, 2.10704860e-05, 3.16057291e-05,\n",
       "       1.05352430e-05, 3.68733506e-05, 3.16057291e-05, 2.63381076e-05,\n",
       "       1.05352430e-05, 1.05352430e-05, 1.58028645e-05, 2.63381076e-05,\n",
       "       1.58028645e-05, 1.05352430e-05, 5.26762151e-06, 2.10704860e-05,\n",
       "       5.26762151e-06, 1.05352430e-05, 1.58028645e-05, 1.58028645e-05,\n",
       "       1.05352430e-05, 5.26762151e-06, 1.58028645e-05, 5.26762151e-06,\n",
       "       1.05352430e-05, 5.26762151e-06, 1.58028645e-05, 1.58028645e-05,\n",
       "       1.05352430e-05, 1.58028645e-05, 5.26762151e-06, 1.58028645e-05,\n",
       "       5.26762151e-06, 1.05352430e-05, 5.26762151e-06, 1.05352430e-05,\n",
       "       5.26762151e-06, 5.26762151e-06, 5.26762151e-06, 5.26762151e-06,\n",
       "       1.05352430e-05, 1.05352430e-05, 5.26762151e-06, 5.26762151e-06,\n",
       "       5.26762151e-06, 1.05352430e-05, 5.26762151e-06, 5.26762151e-06,\n",
       "       5.26762151e-06, 5.26762151e-06, 5.26762151e-06, 1.05352430e-05,\n",
       "       5.26762151e-06, 5.26762151e-06, 1.58028645e-05, 5.26762151e-06,\n",
       "       5.26762151e-06, 5.26762151e-06, 5.26762151e-06, 5.26762151e-06,\n",
       "       5.26762151e-06, 5.26762151e-06, 5.26762151e-06, 5.26762151e-06,\n",
       "       5.26762151e-06])"
      ]
     },
     "execution_count": 6,
     "metadata": {},
     "output_type": "execute_result"
    }
   ],
   "source": [
    "prob=counts/sum(counts)\n",
    "prob"
   ]
  },
  {
   "cell_type": "code",
   "execution_count": 7,
   "id": "5192ba28",
   "metadata": {},
   "outputs": [],
   "source": [
    "cdf = np.cumsum(prob)    # cumulative distribution function of a random variable"
   ]
  },
  {
   "cell_type": "code",
   "execution_count": 8,
   "id": "945fd7cb",
   "metadata": {},
   "outputs": [
    {
     "data": {
      "image/png": "[encoded data removed]",
      "text/plain": [
       "<Figure size 640x480 with 1 Axes>"
      ]
     },
     "metadata": {},
     "output_type": "display_data"
    }
   ],
   "source": [
    "plt.plot(unique, cdf)\n",
    "plt.xlabel('session length')\n",
    "plt.ylabel('commulative density')\n",
    "plt.show()"
   ]
  },
  {
   "cell_type": "code",
   "execution_count": 9,
   "id": "ff8cd2e9",
   "metadata": {},
   "outputs": [],
   "source": [
    "inverse_cdf = interpolate.interp1d(cdf, unique, fill_value=min(unique), bounds_error=False, assume_sorted=True)    # this is a function"
   ]
  },
  {
   "cell_type": "code",
   "execution_count": 10,
   "id": "2a85f67f",
   "metadata": {},
   "outputs": [
    {
     "data": {
      "text/plain": [
       "[<matplotlib.lines.Line2D at 0x2866fa430>]"
      ]
     },
     "execution_count": 10,
     "metadata": {},
     "output_type": "execute_result"
    },
    {
     "data": {
      "image/png": "[encoded data removed]",
      "text/plain": [
       "<Figure size 640x480 with 1 Axes>"
      ]
     },
     "metadata": {},
     "output_type": "display_data"
    }
   ],
   "source": [
    "max_i = 10\n",
    "Y = [i/max_i for i in range(max_i + 1)]\n",
    "X = inverse_cdf(Y)\n",
    "plt.scatter(X, Y)\n",
    "plt.plot(unique, cdf)"
   ]
  },
  {
   "cell_type": "code",
   "execution_count": null,
   "id": "cc4ed6f8",
   "metadata": {},
   "outputs": [],
   "source": []
  },
  {
   "cell_type": "code",
   "execution_count": 216,
   "id": "1e1cb31d",
   "metadata": {},
   "outputs": [],
   "source": [
    "I = df['ItemId'].nunique()\n",
    "N = 10_000\n",
    "S = N / x.mean()"
   ]
  },
  {
   "cell_type": "code",
   "execution_count": 217,
   "id": "5a16a275",
   "metadata": {},
   "outputs": [
    {
     "data": {
      "text/plain": [
       "array([ 6,  4,  3, ..., 39,  7,  2])"
      ]
     },
     "execution_count": 217,
     "metadata": {},
     "output_type": "execute_result"
    }
   ],
   "source": [
    "x"
   ]
  },
  {
   "cell_type": "code",
   "execution_count": 221,
   "id": "142909f6",
   "metadata": {},
   "outputs": [
    {
     "data": {
      "text/plain": [
       "[(1568, 123174, 1568),\n",
       " (1568, 113712, 1569),\n",
       " (1568, 29352, 1570),\n",
       " (1568, 315189, 1571),\n",
       " (1568, 77444, 1572)]"
      ]
     },
     "execution_count": 221,
     "metadata": {},
     "output_type": "execute_result"
    }
   ],
   "source": [
    "def create_session(s, t, I):\n",
    "    Y = []\n",
    "    r = random.random()\n",
    "    l = inverse_cdf(r)\n",
    "    l = math.ceil(l.flat[0])\n",
    "    item_ids = np.random.randint(0,I,l)\n",
    "    for item_id in item_ids:\n",
    "        Y.append((s, item_id, t))\n",
    "        t = t + 1\n",
    "    return Y\n",
    "create_session(s, t, I)"
   ]
  },
  {
   "cell_type": "code",
   "execution_count": 227,
   "id": "e51fe061",
   "metadata": {},
   "outputs": [
    {
     "name": "stdout",
     "output_type": "stream",
     "text": [
      "expected: 10000\n",
      "actual: 10166\n"
     ]
    }
   ],
   "source": [
    "Y = []\n",
    "t = 0\n",
    "s = 0\n",
    "while s < S:\n",
    "    l = create_session(s, t, I)\n",
    "    Y.extend(l)\n",
    "    s = s + 1\n",
    "    t = t + 1\n",
    "print('expected:', N)\n",
    "print('actual:', len(Y))"
   ]
  },
  {
   "cell_type": "code",
   "execution_count": null,
   "id": "0c493924",
   "metadata": {},
   "outputs": [],
   "source": []
  },
  {
   "cell_type": "code",
   "execution_count": null,
   "id": "017606fb",
   "metadata": {},
   "outputs": [],
   "source": []
  },
  {
   "cell_type": "code",
   "execution_count": null,
   "id": "bb764dca",
   "metadata": {},
   "outputs": [],
   "source": []
  },
  {
   "cell_type": "code",
   "execution_count": null,
   "id": "d67c2160",
   "metadata": {},
   "outputs": [],
   "source": []
  }
 ],
 "metadata": {
  "kernelspec": {
   "display_name": "Python 3 (ipykernel)",
   "language": "python",
   "name": "python3"
  },
  "language_info": {
   "codemirror_mode": {
    "name": "ipython",
    "version": 3
   },
   "file_extension": ".py",
   "mimetype": "text/x-python",
   "name": "python",
   "nbconvert_exporter": "python",
   "pygments_lexer": "ipython3",
   "version": "3.9.6"
  }
 },
 "nbformat": 4,
 "nbformat_minor": 5
}
