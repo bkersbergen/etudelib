{
 "cells": [
  {
   "cell_type": "code",
   "execution_count": 9,
   "id": "5d0d4e67",
   "metadata": {},
   "outputs": [],
   "source": [
    "import pandas as pd\n",
    "import numpy as np\n",
    "from numpy.random import random\n",
    "from scipy import interpolate\n",
    "import matplotlib.pyplot as plt\n",
    "import random\n",
    "import math"
   ]
  },
  {
   "cell_type": "code",
   "execution_count": 10,
   "id": "55e9ff15",
   "metadata": {},
   "outputs": [
    {
     "data": {
      "text/html": [
       "<div>\n",
       "<style scoped>\n",
       "    .dataframe tbody tr th:only-of-type {\n",
       "        vertical-align: middle;\n",
       "    }\n",
       "\n",
       "    .dataframe tbody tr th {\n",
       "        vertical-align: top;\n",
       "    }\n",
       "\n",
       "    .dataframe thead th {\n",
       "        text-align: right;\n",
       "    }\n",
       "</style>\n",
       "<table border=\"1\" class=\"dataframe\">\n",
       "  <thead>\n",
       "    <tr style=\"text-align: right;\">\n",
       "      <th></th>\n",
       "      <th>SessionId</th>\n",
       "      <th>Time</th>\n",
       "      <th>ItemId</th>\n",
       "    </tr>\n",
       "  </thead>\n",
       "  <tbody>\n",
       "    <tr>\n",
       "      <th>0</th>\n",
       "      <td>0008019740_18</td>\n",
       "      <td>1585897352</td>\n",
       "      <td>9200000083733268</td>\n",
       "    </tr>\n",
       "    <tr>\n",
       "      <th>1</th>\n",
       "      <td>0008019740_18</td>\n",
       "      <td>1585897382</td>\n",
       "      <td>9200000049819763</td>\n",
       "    </tr>\n",
       "    <tr>\n",
       "      <th>2</th>\n",
       "      <td>0008019740_18</td>\n",
       "      <td>1585897392</td>\n",
       "      <td>9200000066323079</td>\n",
       "    </tr>\n",
       "    <tr>\n",
       "      <th>3</th>\n",
       "      <td>0008019740_18</td>\n",
       "      <td>1585897506</td>\n",
       "      <td>9200000081546242</td>\n",
       "    </tr>\n",
       "    <tr>\n",
       "      <th>4</th>\n",
       "      <td>0008019740_18</td>\n",
       "      <td>1585897633</td>\n",
       "      <td>9200000125623273</td>\n",
       "    </tr>\n",
       "    <tr>\n",
       "      <th>...</th>\n",
       "      <td>...</td>\n",
       "      <td>...</td>\n",
       "      <td>...</td>\n",
       "    </tr>\n",
       "    <tr>\n",
       "      <th>1211470</th>\n",
       "      <td>zzz7jpx6h6yk34srl558w4zg2eu4h4pm_1</td>\n",
       "      <td>1585921127</td>\n",
       "      <td>9200000065118578</td>\n",
       "    </tr>\n",
       "    <tr>\n",
       "      <th>1211471</th>\n",
       "      <td>zzz7jpx6h6yk34srl558w4zg2eu4h4pm_1</td>\n",
       "      <td>1585921160</td>\n",
       "      <td>9200000065118570</td>\n",
       "    </tr>\n",
       "    <tr>\n",
       "      <th>1211472</th>\n",
       "      <td>zzz7jpx6h6yk34srl558w4zg2eu4h4pm_1</td>\n",
       "      <td>1585921286</td>\n",
       "      <td>9200000064417495</td>\n",
       "    </tr>\n",
       "    <tr>\n",
       "      <th>1211473</th>\n",
       "      <td>zzzjsuzmx87wcp4720be75zq67m2hkx9_14</td>\n",
       "      <td>1585944407</td>\n",
       "      <td>9200000026328200</td>\n",
       "    </tr>\n",
       "    <tr>\n",
       "      <th>1211474</th>\n",
       "      <td>zzzjsuzmx87wcp4720be75zq67m2hkx9_14</td>\n",
       "      <td>1585944411</td>\n",
       "      <td>9200000056545883</td>\n",
       "    </tr>\n",
       "  </tbody>\n",
       "</table>\n",
       "<p>1211475 rows × 3 columns</p>\n",
       "</div>"
      ],
      "text/plain": [
       "                                   SessionId        Time            ItemId\n",
       "0                              0008019740_18  1585897352  9200000083733268\n",
       "1                              0008019740_18  1585897382  9200000049819763\n",
       "2                              0008019740_18  1585897392  9200000066323079\n",
       "3                              0008019740_18  1585897506  9200000081546242\n",
       "4                              0008019740_18  1585897633  9200000125623273\n",
       "...                                      ...         ...               ...\n",
       "1211470   zzz7jpx6h6yk34srl558w4zg2eu4h4pm_1  1585921127  9200000065118578\n",
       "1211471   zzz7jpx6h6yk34srl558w4zg2eu4h4pm_1  1585921160  9200000065118570\n",
       "1211472   zzz7jpx6h6yk34srl558w4zg2eu4h4pm_1  1585921286  9200000064417495\n",
       "1211473  zzzjsuzmx87wcp4720be75zq67m2hkx9_14  1585944407  9200000026328200\n",
       "1211474  zzzjsuzmx87wcp4720be75zq67m2hkx9_14  1585944411  9200000056545883\n",
       "\n",
       "[1211475 rows x 3 columns]"
      ]
     },
     "execution_count": 10,
     "metadata": {},
     "output_type": "execute_result"
    }
   ],
   "source": [
    "df = pd.read_csv('../../projects/data/bolcom-clicks-35m_test.txt', sep='\\t')\n",
    "df"
   ]
  },
  {
   "cell_type": "code",
   "execution_count": 11,
   "id": "e8a2b9d3",
   "metadata": {},
   "outputs": [],
   "source": [
    "L_s = np.array(df.groupby('SessionId').size())"
   ]
  },
  {
   "cell_type": "code",
   "execution_count": 12,
   "id": "285f15fe",
   "metadata": {},
   "outputs": [
    {
     "data": {
      "text/plain": [
       "6.381591769868152"
      ]
     },
     "execution_count": 12,
     "metadata": {},
     "output_type": "execute_result"
    }
   ],
   "source": [
    "L_s.mean()"
   ]
  },
  {
   "cell_type": "code",
   "execution_count": 13,
   "id": "ec1bab32",
   "metadata": {},
   "outputs": [
    {
     "data": {
      "text/plain": [
       "(array([  2,   3,   4,   5,   6,   7,   8,   9,  10,  11,  12,  13,  14,\n",
       "         15,  16,  17,  18,  19,  20,  21,  22,  23,  24,  25,  26,  27,\n",
       "         28,  29,  30,  31,  32,  33,  34,  35,  36,  37,  38,  39,  40,\n",
       "         41,  42,  43,  44,  45,  46,  47,  48,  49,  50,  51,  52,  53,\n",
       "         54,  55,  56,  57,  58,  59,  60,  61,  62,  63,  64,  65,  66,\n",
       "         67,  68,  69,  70,  71,  72,  73,  74,  75,  76,  77,  78,  79,\n",
       "         80,  81,  82,  83,  84,  85,  86,  87,  88,  89,  90,  91,  92,\n",
       "         93,  94,  95,  96,  97,  98,  99, 100, 101, 102, 103, 104, 105,\n",
       "        106, 107, 108, 109, 110, 111, 112, 113, 114, 115, 116, 117, 118,\n",
       "        119, 120, 123, 124, 125, 126, 127, 129, 130, 131, 136, 137, 138,\n",
       "        141, 150, 151, 152, 156, 159, 168, 174, 179, 184, 188, 199, 225,\n",
       "        246, 279]),\n",
       " array([50468, 33628, 21486, 16344, 11964,  9386,  7310,  6219,  4725,\n",
       "         3955,  3303,  2718,  2283,  1917,  1642,  1389,  1246,  1053,\n",
       "          955,   794,   732,   615,   520,   486,   449,   383,   363,\n",
       "          320,   276,   243,   242,   199,   166,   168,   136,   123,\n",
       "          140,   110,    97,   103,    84,    86,    64,    53,    52,\n",
       "           69,    56,    52,    41,    38,    26,    29,    31,    22,\n",
       "           26,    25,    27,    42,    23,    15,    12,    15,    13,\n",
       "           15,    12,     7,    14,    12,     9,     7,     7,    10,\n",
       "            6,     4,     5,    12,     4,     6,     7,     5,     8,\n",
       "            5,     4,     6,     2,     7,     6,     5,     2,     2,\n",
       "            3,     5,     3,     2,     1,     4,     1,     2,     3,\n",
       "            3,     2,     1,     3,     1,     2,     1,     3,     3,\n",
       "            2,     3,     1,     3,     1,     2,     1,     2,     1,\n",
       "            1,     1,     1,     2,     2,     1,     1,     1,     2,\n",
       "            1,     1,     1,     1,     1,     2,     1,     1,     3,\n",
       "            1,     1,     1,     1,     1,     1,     1,     1,     1,\n",
       "            1]))"
      ]
     },
     "execution_count": 13,
     "metadata": {},
     "output_type": "execute_result"
    }
   ],
   "source": [
    "unique, c_l = np.unique(L_s, return_counts=True)\n",
    "unique, c_l"
   ]
  },
  {
   "cell_type": "code",
   "execution_count": 14,
   "id": "95620b33",
   "metadata": {},
   "outputs": [
    {
     "data": {
      "text/plain": [
       "array([2.65846322e-01, 1.77139576e-01, 1.13180116e-01, 8.60940060e-02,\n",
       "       6.30218238e-02, 4.94418955e-02, 3.85063132e-02, 3.27593382e-02,\n",
       "       2.48895116e-02, 2.08334431e-02, 1.73989539e-02, 1.43173953e-02,\n",
       "       1.20259799e-02, 1.00980304e-02, 8.64943452e-03, 7.31672628e-03,\n",
       "       6.56345640e-03, 5.54680545e-03, 5.03057854e-03, 4.18249148e-03,\n",
       "       3.85589895e-03, 3.23958723e-03, 2.73916319e-03, 2.56006405e-03,\n",
       "       2.36516206e-03, 2.01749904e-03, 1.91214661e-03, 1.68563888e-03,\n",
       "       1.45386354e-03, 1.28003203e-03, 1.27476441e-03, 1.04825668e-03,\n",
       "       8.74425171e-04, 8.84960414e-04, 7.16396525e-04, 6.47917446e-04,\n",
       "       7.37467012e-04, 5.79438366e-04, 5.10959287e-04, 5.42565016e-04,\n",
       "       4.42480207e-04, 4.53015450e-04, 3.37127777e-04, 2.79183940e-04,\n",
       "       2.73916319e-04, 3.63465884e-04, 2.94986805e-04, 2.73916319e-04,\n",
       "       2.15972482e-04, 2.00169617e-04, 1.36958159e-04, 1.52761024e-04,\n",
       "       1.63296267e-04, 1.15887673e-04, 1.36958159e-04, 1.31690538e-04,\n",
       "       1.42225781e-04, 2.21240103e-04, 1.21155295e-04, 7.90143227e-05,\n",
       "       6.32114581e-05, 7.90143227e-05, 6.84790796e-05, 7.90143227e-05,\n",
       "       6.32114581e-05, 3.68733506e-05, 7.37467012e-05, 6.32114581e-05,\n",
       "       4.74085936e-05, 3.68733506e-05, 3.68733506e-05, 5.26762151e-05,\n",
       "       3.16057291e-05, 2.10704860e-05, 2.63381076e-05, 6.32114581e-05,\n",
       "       2.10704860e-05, 3.16057291e-05, 3.68733506e-05, 2.63381076e-05,\n",
       "       4.21409721e-05, 2.63381076e-05, 2.10704860e-05, 3.16057291e-05,\n",
       "       1.05352430e-05, 3.68733506e-05, 3.16057291e-05, 2.63381076e-05,\n",
       "       1.05352430e-05, 1.05352430e-05, 1.58028645e-05, 2.63381076e-05,\n",
       "       1.58028645e-05, 1.05352430e-05, 5.26762151e-06, 2.10704860e-05,\n",
       "       5.26762151e-06, 1.05352430e-05, 1.58028645e-05, 1.58028645e-05,\n",
       "       1.05352430e-05, 5.26762151e-06, 1.58028645e-05, 5.26762151e-06,\n",
       "       1.05352430e-05, 5.26762151e-06, 1.58028645e-05, 1.58028645e-05,\n",
       "       1.05352430e-05, 1.58028645e-05, 5.26762151e-06, 1.58028645e-05,\n",
       "       5.26762151e-06, 1.05352430e-05, 5.26762151e-06, 1.05352430e-05,\n",
       "       5.26762151e-06, 5.26762151e-06, 5.26762151e-06, 5.26762151e-06,\n",
       "       1.05352430e-05, 1.05352430e-05, 5.26762151e-06, 5.26762151e-06,\n",
       "       5.26762151e-06, 1.05352430e-05, 5.26762151e-06, 5.26762151e-06,\n",
       "       5.26762151e-06, 5.26762151e-06, 5.26762151e-06, 1.05352430e-05,\n",
       "       5.26762151e-06, 5.26762151e-06, 1.58028645e-05, 5.26762151e-06,\n",
       "       5.26762151e-06, 5.26762151e-06, 5.26762151e-06, 5.26762151e-06,\n",
       "       5.26762151e-06, 5.26762151e-06, 5.26762151e-06, 5.26762151e-06,\n",
       "       5.26762151e-06])"
      ]
     },
     "execution_count": 14,
     "metadata": {},
     "output_type": "execute_result"
    }
   ],
   "source": [
    "p=c_l/sum(c_l)\n",
    "p"
   ]
  },
  {
   "cell_type": "code",
   "execution_count": 15,
   "id": "5192ba28",
   "metadata": {},
   "outputs": [],
   "source": [
    "cdf = np.cumsum(p)    # cumulative distribution function of a random variable"
   ]
  },
  {
   "cell_type": "code",
   "execution_count": 16,
   "id": "945fd7cb",
   "metadata": {},
   "outputs": [
    {
     "data": {
      "image/png": "[encoded data removed]",
      "text/plain": [
       "<Figure size 640x480 with 1 Axes>"
      ]
     },
     "metadata": {},
     "output_type": "display_data"
    }
   ],
   "source": [
    "plt.plot(unique, cdf)\n",
    "plt.xlabel('session length')\n",
    "plt.ylabel('commulative probability')\n",
    "plt.show()"
   ]
  },
  {
   "cell_type": "code",
   "execution_count": 17,
   "id": "ff8cd2e9",
   "metadata": {},
   "outputs": [],
   "source": [
    "inverse_cdf = interpolate.interp1d(cdf, unique, fill_value=min(unique), bounds_error=False, assume_sorted=True)    # this is a function"
   ]
  },
  {
   "cell_type": "code",
   "execution_count": 18,
   "id": "2a85f67f",
   "metadata": {},
   "outputs": [
    {
     "data": {
      "image/png": "[encoded data removed]",
      "text/plain": [
       "<Figure size 640x480 with 1 Axes>"
      ]
     },
     "metadata": {},
     "output_type": "display_data"
    }
   ],
   "source": [
    "max_i = 1000000\n",
    "Y = [i/max_i for i in range(max_i + 1)]\n",
    "X = inverse_cdf(Y)\n",
    "plt.scatter(X, Y, marker='o', alpha=0.1)\n",
    "plt.plot(unique, cdf)\n",
    "plt.show()"
   ]
  },
  {
   "cell_type": "code",
   "execution_count": null,
   "id": "cc4ed6f8",
   "metadata": {},
   "outputs": [],
   "source": []
  },
  {
   "cell_type": "code",
   "execution_count": 19,
   "id": "1e1cb31d",
   "metadata": {},
   "outputs": [],
   "source": [
    "I = df['ItemId'].nunique()\n",
    "N = 10_000\n",
    "S = N / L_s.mean()"
   ]
  },
  {
   "cell_type": "code",
   "execution_count": 20,
   "id": "5a16a275",
   "metadata": {},
   "outputs": [
    {
     "data": {
      "text/plain": [
       "array([ 6,  4,  3, ..., 39,  7,  2])"
      ]
     },
     "execution_count": 20,
     "metadata": {},
     "output_type": "execute_result"
    }
   ],
   "source": [
    "L_s"
   ]
  },
  {
   "cell_type": "code",
   "execution_count": 21,
   "id": "142909f6",
   "metadata": {},
   "outputs": [],
   "source": [
    "def create_session(s, t, I):\n",
    "    Y = []\n",
    "    r = random.random()\n",
    "    l = inverse_cdf(r)\n",
    "    l = math.ceil(l.flat[0])\n",
    "    item_ids = np.random.randint(0,I,l)\n",
    "    for item_id in item_ids:\n",
    "        Y.append((s, item_id, t))\n",
    "        t = t + 1\n",
    "    return Y\n"
   ]
  },
  {
   "cell_type": "code",
   "execution_count": 22,
   "id": "7152c7a9",
   "metadata": {},
   "outputs": [
    {
     "data": {
      "text/plain": [
       "[(0, 219519, 0), (0, 181008, 1), (0, 249597, 2)]"
      ]
     },
     "execution_count": 22,
     "metadata": {},
     "output_type": "execute_result"
    }
   ],
   "source": [
    "t = 0\n",
    "s = 0\n",
    "create_session(s, t, I)\n"
   ]
  },
  {
   "cell_type": "code",
   "execution_count": 23,
   "id": "e51fe061",
   "metadata": {},
   "outputs": [
    {
     "name": "stdout",
     "output_type": "stream",
     "text": [
      "expected: 10000\n",
      "actual: 10447\n"
     ]
    }
   ],
   "source": [
    "Y = []\n",
    "while s < S:\n",
    "    l = create_session(s, t, I)\n",
    "    Y.extend(l)\n",
    "    s = s + 1\n",
    "    t = t + 1\n",
    "print('expected:', N)\n",
    "print('actual:', len(Y))"
   ]
  },
  {
   "cell_type": "code",
   "execution_count": 24,
   "id": "0c493924",
   "metadata": {},
   "outputs": [],
   "source": [
    "L_i = np.array(df.groupby('ItemId').size())"
   ]
  },
  {
   "cell_type": "code",
   "execution_count": 25,
   "id": "debcb052",
   "metadata": {},
   "outputs": [
    {
     "data": {
      "text/plain": [
       "array([   1,    1,    1, ..., 2186, 2224, 2336])"
      ]
     },
     "execution_count": 25,
     "metadata": {},
     "output_type": "execute_result"
    }
   ],
   "source": [
    "# popularity of each ItemId\n",
    "L_i.sort()\n",
    "L_i"
   ]
  },
  {
   "cell_type": "code",
   "execution_count": 26,
   "id": "017606fb",
   "metadata": {},
   "outputs": [
    {
     "data": {
      "text/plain": [
       "(array([   1,    2,    3,    4,    5,    6,    7,    8,    9,   10,   11,\n",
       "          12,   13,   14,   15,   16,   17,   18,   19,   20,   21,   22,\n",
       "          23,   24,   25,   26,   27,   28,   29,   30,   31,   32,   33,\n",
       "          34,   35,   36,   37,   38,   39,   40,   41,   42,   43,   44,\n",
       "          45,   46,   47,   48,   49,   50,   51,   52,   53,   54,   55,\n",
       "          56,   57,   58,   59,   60,   61,   62,   63,   64,   65,   66,\n",
       "          67,   68,   69,   70,   71,   72,   73,   74,   75,   76,   77,\n",
       "          78,   79,   80,   81,   82,   83,   84,   85,   86,   87,   88,\n",
       "          89,   90,   91,   92,   93,   94,   95,   96,   97,   98,   99,\n",
       "         100,  101,  102,  103,  104,  105,  106,  107,  108,  109,  110,\n",
       "         111,  112,  113,  114,  115,  116,  117,  118,  119,  120,  121,\n",
       "         122,  123,  124,  125,  126,  127,  128,  129,  130,  132,  133,\n",
       "         134,  135,  136,  137,  138,  139,  140,  141,  142,  143,  144,\n",
       "         145,  146,  147,  148,  149,  150,  151,  152,  153,  154,  155,\n",
       "         156,  158,  159,  160,  161,  162,  163,  164,  166,  167,  168,\n",
       "         169,  170,  171,  173,  174,  175,  176,  177,  178,  180,  181,\n",
       "         183,  184,  185,  186,  187,  189,  190,  192,  193,  194,  196,\n",
       "         197,  199,  201,  202,  203,  204,  207,  209,  210,  211,  214,\n",
       "         217,  219,  220,  221,  224,  225,  227,  229,  233,  235,  239,\n",
       "         242,  245,  249,  251,  254,  255,  256,  259,  260,  263,  267,\n",
       "         268,  273,  279,  280,  285,  288,  289,  290,  293,  298,  300,\n",
       "         309,  319,  320,  336,  337,  343,  369,  382,  395,  401,  421,\n",
       "         422,  430,  439,  440,  445,  451,  473,  476,  477,  535,  539,\n",
       "         572,  573,  635,  869, 1407, 1545, 1618, 1769, 2073, 2177, 2186,\n",
       "        2224, 2336]),\n",
       " array([159424,  67919,  34345,  20188,  12424,   8781,   6155,   4520,\n",
       "          3472,   2764,   2210,   1863,   1546,   1297,   1096,    977,\n",
       "           846,    695,    623,    555,    499,    442,    410,    328,\n",
       "           300,    279,    273,    244,    223,    213,    184,    172,\n",
       "           139,    148,    151,    118,    117,    111,    116,    111,\n",
       "            82,     94,     71,     60,     73,     81,     70,     53,\n",
       "            51,     47,     47,     49,     48,     37,     53,     49,\n",
       "            34,     43,     45,     32,     28,     28,     31,     28,\n",
       "            24,     19,     22,     18,     24,     15,     16,     19,\n",
       "            22,     24,     21,     23,     16,     15,     21,     11,\n",
       "            13,     11,     15,     11,     14,     16,     11,     14,\n",
       "             8,     10,     14,      6,      7,      9,      5,      7,\n",
       "             8,      9,     12,     10,      3,      7,      9,      7,\n",
       "             6,      6,      6,      4,      7,      4,      6,      6,\n",
       "             9,      8,      5,      5,      7,      3,      4,      5,\n",
       "             4,      3,      1,      6,      2,      4,      4,      8,\n",
       "             7,      5,      2,      4,      3,      1,      5,      3,\n",
       "             4,      2,      1,      3,      5,      4,      4,      3,\n",
       "             1,      2,      1,      6,      1,      4,      2,      8,\n",
       "             4,      1,      2,      1,      2,      4,      1,      2,\n",
       "             2,      1,      3,      2,      1,      1,      2,      1,\n",
       "             1,      5,      1,      1,      1,      1,      2,      1,\n",
       "             1,      2,      1,      2,      1,      1,      1,      5,\n",
       "             1,      1,      1,      2,      1,      1,      1,      1,\n",
       "             3,      2,      1,      2,      2,      1,      2,      1,\n",
       "             2,      1,      1,      2,      1,      2,      1,      1,\n",
       "             1,      1,      1,      1,      2,      1,      1,      1,\n",
       "             1,      1,      1,      1,      1,      1,      1,      1,\n",
       "             2,      1,      1,      2,      2,      2,      1,      2,\n",
       "             1,      1,      1,      1,      1,      1,      1,      1,\n",
       "             1,      1,      1,      1,      1,      1,      1,      1,\n",
       "             1,      1,      1,      1,      1,      1,      1,      1,\n",
       "             1,      1,      1,      1,      1,      1,      1,      1,\n",
       "             1,      1]))"
      ]
     },
     "execution_count": 26,
     "metadata": {},
     "output_type": "execute_result"
    }
   ],
   "source": [
    "L_i = np.array(df.groupby('ItemId').size())\n",
    "unique, c_i = np.unique(L_i, return_counts=True)\n",
    "unique, c_i"
   ]
  },
  {
   "cell_type": "code",
   "execution_count": 27,
   "id": "bb764dca",
   "metadata": {},
   "outputs": [
    {
     "data": {
      "text/plain": [
       "array([4.71087445e-01, 2.00696183e-01, 1.01487218e-01, 5.96542136e-02,\n",
       "       3.67121037e-02, 2.59472781e-02, 1.81876206e-02, 1.33563030e-02,\n",
       "       1.02595319e-02, 8.16743840e-03, 6.53040480e-03, 5.50504260e-03,\n",
       "       4.56832842e-03, 3.83254978e-03, 3.23860799e-03, 2.88697081e-03,\n",
       "       2.49987442e-03, 2.05367934e-03, 1.84092407e-03, 1.63998853e-03,\n",
       "       1.47451221e-03, 1.30608096e-03, 1.21152306e-03, 9.69218449e-04,\n",
       "       8.86480289e-04, 8.24426669e-04, 8.06697063e-04, 7.21003968e-04,\n",
       "       6.58950348e-04, 6.29401005e-04, 5.43707911e-04, 5.08248699e-04,\n",
       "       4.10735867e-04, 4.37330276e-04, 4.46195079e-04, 3.48682247e-04,\n",
       "       3.45727313e-04, 3.27997707e-04, 3.42772378e-04, 3.27997707e-04,\n",
       "       2.42304612e-04, 2.77763824e-04, 2.09800335e-04, 1.77296058e-04,\n",
       "       2.15710204e-04, 2.39349678e-04, 2.06845401e-04, 1.56611518e-04,\n",
       "       1.50701649e-04, 1.38881912e-04, 1.38881912e-04, 1.44791781e-04,\n",
       "       1.41836846e-04, 1.09332569e-04, 1.56611518e-04, 1.44791781e-04,\n",
       "       1.00467766e-04, 1.27062175e-04, 1.32972043e-04, 9.45578975e-05,\n",
       "       8.27381603e-05, 8.27381603e-05, 9.16029632e-05, 8.27381603e-05,\n",
       "       7.09184231e-05, 5.61437516e-05, 6.50085545e-05, 5.31888173e-05,\n",
       "       7.09184231e-05, 4.43240145e-05, 4.72789488e-05, 5.61437516e-05,\n",
       "       6.50085545e-05, 7.09184231e-05, 6.20536202e-05, 6.79634888e-05,\n",
       "       4.72789488e-05, 4.43240145e-05, 6.20536202e-05, 3.25042773e-05,\n",
       "       3.84141459e-05, 3.25042773e-05, 4.43240145e-05, 3.25042773e-05,\n",
       "       4.13690802e-05, 4.72789488e-05, 3.25042773e-05, 4.13690802e-05,\n",
       "       2.36394744e-05, 2.95493430e-05, 4.13690802e-05, 1.77296058e-05,\n",
       "       2.06845401e-05, 2.65944087e-05, 1.47746715e-05, 2.06845401e-05,\n",
       "       2.36394744e-05, 2.65944087e-05, 3.54592116e-05, 2.95493430e-05,\n",
       "       8.86480289e-06, 2.06845401e-05, 2.65944087e-05, 2.06845401e-05,\n",
       "       1.77296058e-05, 1.77296058e-05, 1.77296058e-05, 1.18197372e-05,\n",
       "       2.06845401e-05, 1.18197372e-05, 1.77296058e-05, 1.77296058e-05,\n",
       "       2.65944087e-05, 2.36394744e-05, 1.47746715e-05, 1.47746715e-05,\n",
       "       2.06845401e-05, 8.86480289e-06, 1.18197372e-05, 1.47746715e-05,\n",
       "       1.18197372e-05, 8.86480289e-06, 2.95493430e-06, 1.77296058e-05,\n",
       "       5.90986859e-06, 1.18197372e-05, 1.18197372e-05, 2.36394744e-05,\n",
       "       2.06845401e-05, 1.47746715e-05, 5.90986859e-06, 1.18197372e-05,\n",
       "       8.86480289e-06, 2.95493430e-06, 1.47746715e-05, 8.86480289e-06,\n",
       "       1.18197372e-05, 5.90986859e-06, 2.95493430e-06, 8.86480289e-06,\n",
       "       1.47746715e-05, 1.18197372e-05, 1.18197372e-05, 8.86480289e-06,\n",
       "       2.95493430e-06, 5.90986859e-06, 2.95493430e-06, 1.77296058e-05,\n",
       "       2.95493430e-06, 1.18197372e-05, 5.90986859e-06, 2.36394744e-05,\n",
       "       1.18197372e-05, 2.95493430e-06, 5.90986859e-06, 2.95493430e-06,\n",
       "       5.90986859e-06, 1.18197372e-05, 2.95493430e-06, 5.90986859e-06,\n",
       "       5.90986859e-06, 2.95493430e-06, 8.86480289e-06, 5.90986859e-06,\n",
       "       2.95493430e-06, 2.95493430e-06, 5.90986859e-06, 2.95493430e-06,\n",
       "       2.95493430e-06, 1.47746715e-05, 2.95493430e-06, 2.95493430e-06,\n",
       "       2.95493430e-06, 2.95493430e-06, 5.90986859e-06, 2.95493430e-06,\n",
       "       2.95493430e-06, 5.90986859e-06, 2.95493430e-06, 5.90986859e-06,\n",
       "       2.95493430e-06, 2.95493430e-06, 2.95493430e-06, 1.47746715e-05,\n",
       "       2.95493430e-06, 2.95493430e-06, 2.95493430e-06, 5.90986859e-06,\n",
       "       2.95493430e-06, 2.95493430e-06, 2.95493430e-06, 2.95493430e-06,\n",
       "       8.86480289e-06, 5.90986859e-06, 2.95493430e-06, 5.90986859e-06,\n",
       "       5.90986859e-06, 2.95493430e-06, 5.90986859e-06, 2.95493430e-06,\n",
       "       5.90986859e-06, 2.95493430e-06, 2.95493430e-06, 5.90986859e-06,\n",
       "       2.95493430e-06, 5.90986859e-06, 2.95493430e-06, 2.95493430e-06,\n",
       "       2.95493430e-06, 2.95493430e-06, 2.95493430e-06, 2.95493430e-06,\n",
       "       5.90986859e-06, 2.95493430e-06, 2.95493430e-06, 2.95493430e-06,\n",
       "       2.95493430e-06, 2.95493430e-06, 2.95493430e-06, 2.95493430e-06,\n",
       "       2.95493430e-06, 2.95493430e-06, 2.95493430e-06, 2.95493430e-06,\n",
       "       5.90986859e-06, 2.95493430e-06, 2.95493430e-06, 5.90986859e-06,\n",
       "       5.90986859e-06, 5.90986859e-06, 2.95493430e-06, 5.90986859e-06,\n",
       "       2.95493430e-06, 2.95493430e-06, 2.95493430e-06, 2.95493430e-06,\n",
       "       2.95493430e-06, 2.95493430e-06, 2.95493430e-06, 2.95493430e-06,\n",
       "       2.95493430e-06, 2.95493430e-06, 2.95493430e-06, 2.95493430e-06,\n",
       "       2.95493430e-06, 2.95493430e-06, 2.95493430e-06, 2.95493430e-06,\n",
       "       2.95493430e-06, 2.95493430e-06, 2.95493430e-06, 2.95493430e-06,\n",
       "       2.95493430e-06, 2.95493430e-06, 2.95493430e-06, 2.95493430e-06,\n",
       "       2.95493430e-06, 2.95493430e-06, 2.95493430e-06, 2.95493430e-06,\n",
       "       2.95493430e-06, 2.95493430e-06, 2.95493430e-06, 2.95493430e-06,\n",
       "       2.95493430e-06, 2.95493430e-06])"
      ]
     },
     "execution_count": 27,
     "metadata": {},
     "output_type": "execute_result"
    }
   ],
   "source": [
    "p_i=c_i/sum(c_i)\n",
    "p_i"
   ]
  },
  {
   "cell_type": "code",
   "execution_count": 28,
   "id": "d67c2160",
   "metadata": {},
   "outputs": [],
   "source": [
    "item_cdf = np.cumsum(p_i)    # cumulative distribution function of a random variable"
   ]
  },
  {
   "cell_type": "code",
   "execution_count": 29,
   "id": "f01b7666",
   "metadata": {},
   "outputs": [
    {
     "data": {
      "text/plain": [
       "array([0.47108745, 0.67178363, 0.77327085, 0.83292506, 0.86963716,\n",
       "       0.89558444, 0.91377206, 0.92712837, 0.9373879 , 0.94555534,\n",
       "       0.95208574, 0.95759078, 0.96215911, 0.96599166, 0.96923027,\n",
       "       0.97211724, 0.97461711, 0.97667079, 0.97851172, 0.98015171,\n",
       "       0.98162622, 0.9829323 , 0.98414382, 0.98511304, 0.98599952,\n",
       "       0.98682395, 0.98763065, 0.98835165, 0.9890106 , 0.98964   ,\n",
       "       0.99018371, 0.99069196, 0.99110269, 0.99154002, 0.99198622,\n",
       "       0.9923349 , 0.99268063, 0.99300863, 0.9933514 , 0.9936794 ,\n",
       "       0.9939217 , 0.99419946, 0.99440926, 0.99458656, 0.99480227,\n",
       "       0.99504162, 0.99524847, 0.99540508, 0.99555578, 0.99569466,\n",
       "       0.99583354, 0.99597833, 0.99612017, 0.9962295 , 0.99638612,\n",
       "       0.99653091, 0.99663137, 0.99675844, 0.99689141, 0.99698597,\n",
       "       0.99706871, 0.99715144, 0.99724305, 0.99732578, 0.9973967 ,\n",
       "       0.99745285, 0.99751786, 0.99757104, 0.99764196, 0.99768629,\n",
       "       0.99773357, 0.99778971, 0.99785472, 0.99792564, 0.99798769,\n",
       "       0.99805565, 0.99810293, 0.99814726, 0.99820931, 0.99824181,\n",
       "       0.99828023, 0.99831273, 0.99835706, 0.99838956, 0.99843093,\n",
       "       0.99847821, 0.99851071, 0.99855208, 0.99857572, 0.99860527,\n",
       "       0.99864664, 0.99866437, 0.99868505, 0.99871165, 0.99872642,\n",
       "       0.99874711, 0.99877075, 0.99879734, 0.9988328 , 0.99886235,\n",
       "       0.99887122, 0.9988919 , 0.99891849, 0.99893918, 0.99895691,\n",
       "       0.99897464, 0.99899237, 0.99900419, 0.99902487, 0.99903669,\n",
       "       0.99905442, 0.99907215, 0.99909875, 0.99912238, 0.99913716,\n",
       "       0.99915193, 0.99917262, 0.99918148, 0.9991933 , 0.99920808,\n",
       "       0.9992199 , 0.99922876, 0.99923172, 0.99924945, 0.99925536,\n",
       "       0.99926718, 0.999279  , 0.99930264, 0.99932332, 0.99933809,\n",
       "       0.999344  , 0.99935582, 0.99936469, 0.99936764, 0.99938242,\n",
       "       0.99939128, 0.9994031 , 0.99940901, 0.99941197, 0.99942083,\n",
       "       0.99943561, 0.99944743, 0.99945925, 0.99946811, 0.99947107,\n",
       "       0.99947698, 0.99947993, 0.99949766, 0.99950062, 0.99951244,\n",
       "       0.99951835, 0.99954199, 0.9995538 , 0.99955676, 0.99956267,\n",
       "       0.99956562, 0.99957153, 0.99958335, 0.99958631, 0.99959222,\n",
       "       0.99959813, 0.99960108, 0.99960995, 0.99961586, 0.99961881,\n",
       "       0.99962177, 0.99962768, 0.99963063, 0.99963359, 0.99964836,\n",
       "       0.99965132, 0.99965427, 0.99965723, 0.99966018, 0.99966609,\n",
       "       0.99966905, 0.999672  , 0.99967791, 0.99968087, 0.99968678,\n",
       "       0.99968973, 0.99969269, 0.99969564, 0.99971042, 0.99971337,\n",
       "       0.99971633, 0.99971928, 0.99972519, 0.99972815, 0.9997311 ,\n",
       "       0.99973406, 0.99973701, 0.99974588, 0.99975179, 0.99975474,\n",
       "       0.99976065, 0.99976656, 0.99976952, 0.99977542, 0.99977838,\n",
       "       0.99978429, 0.99978724, 0.9997902 , 0.99979611, 0.99979906,\n",
       "       0.99980497, 0.99980793, 0.99981088, 0.99981384, 0.99981679,\n",
       "       0.99981975, 0.9998227 , 0.99982861, 0.99983157, 0.99983452,\n",
       "       0.99983748, 0.99984043, 0.99984339, 0.99984634, 0.9998493 ,\n",
       "       0.99985225, 0.99985521, 0.99985816, 0.99986112, 0.99986703,\n",
       "       0.99986998, 0.99987294, 0.99987885, 0.99988476, 0.99989067,\n",
       "       0.99989362, 0.99989953, 0.99990249, 0.99990544, 0.9999084 ,\n",
       "       0.99991135, 0.99991431, 0.99991726, 0.99992022, 0.99992317,\n",
       "       0.99992613, 0.99992908, 0.99993204, 0.99993499, 0.99993795,\n",
       "       0.9999409 , 0.99994386, 0.99994681, 0.99994977, 0.99995272,\n",
       "       0.99995568, 0.99995863, 0.99996159, 0.99996454, 0.9999675 ,\n",
       "       0.99997045, 0.99997341, 0.99997636, 0.99997932, 0.99998227,\n",
       "       0.99998523, 0.99998818, 0.99999114, 0.99999409, 0.99999705,\n",
       "       1.        ])"
      ]
     },
     "execution_count": 29,
     "metadata": {},
     "output_type": "execute_result"
    }
   ],
   "source": [
    "item_cdf"
   ]
  },
  {
   "cell_type": "code",
   "execution_count": 30,
   "id": "43bc431e",
   "metadata": {},
   "outputs": [
    {
     "data": {
      "image/png": "[encoded data removed]",
      "text/plain": [
       "<Figure size 640x480 with 1 Axes>"
      ]
     },
     "metadata": {},
     "output_type": "display_data"
    }
   ],
   "source": [
    "plt.plot(unique, item_cdf)\n",
    "plt.xlabel('item in sessions')\n",
    "plt.ylabel('commulative probability')\n",
    "plt.show()"
   ]
  },
  {
   "cell_type": "code",
   "execution_count": 31,
   "id": "c3b22559",
   "metadata": {},
   "outputs": [
    {
     "data": {
      "text/plain": [
       "<pandas.core.groupby.generic.DataFrameGroupBy object at 0x15ac85190>"
      ]
     },
     "execution_count": 31,
     "metadata": {},
     "output_type": "execute_result"
    }
   ],
   "source": [
    "df.groupby('ItemId')"
   ]
  },
  {
   "cell_type": "code",
   "execution_count": 32,
   "id": "0101b406",
   "metadata": {},
   "outputs": [
    {
     "data": {
      "text/plain": [
       "1211475"
      ]
     },
     "execution_count": 32,
     "metadata": {},
     "output_type": "execute_result"
    }
   ],
   "source": [
    "sum(df.groupby('ItemId').size())"
   ]
  },
  {
   "cell_type": "code",
   "execution_count": 33,
   "id": "3a8cd3c2",
   "metadata": {},
   "outputs": [
    {
     "name": "stdout",
     "output_type": "stream",
     "text": [
      "Sampled item: 5\n"
     ]
    }
   ],
   "source": [
    "import random\n",
    "\n",
    "# Example item distribution\n",
    "item_freq = {'A': 20, 'B': 30, 'C': 10, 'D': 40}\n",
    "\n",
    "# Add Laplace smoothing\n",
    "k = 1\n",
    "item_freq_smoothed = {k + key: item_freq.get(key, 0) + k for key in range(1, len(item_freq) + 1)}\n",
    "\n",
    "# Calculate total number of occurrences\n",
    "total_occurrences = sum(item_freq_smoothed.values())\n",
    "\n",
    "# Calculate probabilities for each item\n",
    "item_prob = {k: v / total_occurrences for k, v in item_freq_smoothed.items()}\n",
    "\n",
    "# Normalize probabilities\n",
    "norm_prob = {k: v / sum(item_prob.values()) for k, v in item_prob.items()}\n",
    "\n",
    "# Create a cumulative distribution\n",
    "cum_dist = {}\n",
    "cumulative = 0\n",
    "for k, v in norm_prob.items():\n",
    "    cumulative += v\n",
    "    cum_dist[k] = cumulative\n",
    "\n",
    "# Sample from the distribution\n",
    "random_num = random.random()\n",
    "for k, v in cum_dist.items():\n",
    "    if random_num <= v:\n",
    "        print(\"Sampled item:\", k)\n",
    "        break\n"
   ]
  },
  {
   "cell_type": "code",
   "execution_count": 34,
   "id": "f716ca44",
   "metadata": {},
   "outputs": [
    {
     "data": {
      "text/plain": [
       "{2: 1, 3: 1, 4: 1, 5: 1}"
      ]
     },
     "execution_count": 34,
     "metadata": {},
     "output_type": "execute_result"
    }
   ],
   "source": [
    "item_freq_smoothed"
   ]
  },
  {
   "cell_type": "code",
   "execution_count": 35,
   "id": "acd5842b",
   "metadata": {},
   "outputs": [
    {
     "name": "stdout",
     "output_type": "stream",
     "text": [
      "Sampled item: A\n"
     ]
    }
   ],
   "source": [
    "import random\n",
    "import numpy as np\n",
    "from sklearn.neighbors import KernelDensity\n",
    "\n",
    "# Example item distribution\n",
    "item_freq = {'A': 20, 'B': 30, 'C': 10, 'D': 40}\n",
    "\n",
    "# Convert frequency dictionary to a list of counts\n",
    "counts = np.array(list(item_freq.values())).reshape(-1, 1)\n",
    "\n",
    "# Perform KDE to estimate the density\n",
    "kde = KernelDensity(kernel='gaussian', bandwidth=1.0).fit(counts)\n",
    "\n",
    "# Sample from the estimated density\n",
    "samples = kde.sample(10)\n",
    "samples = np.exp(samples).astype(int)\n",
    "\n",
    "# Assign IDs to the new items\n",
    "new_items = [f'E{i+1}' for i in range(len(samples))]\n",
    "\n",
    "# Combine the existing items and the new items\n",
    "all_items = list(item_freq.keys()) + new_items\n",
    "\n",
    "# Create a distribution with the combined items\n",
    "item_freq_all = {k: v for k, v in zip(all_items, np.concatenate((counts, samples)))}\n",
    "\n",
    "# Calculate total number of occurrences\n",
    "total_occurrences = sum(item_freq_all.values())\n",
    "\n",
    "# Calculate probabilities for each item\n",
    "item_prob = {k: v / total_occurrences for k, v in item_freq_all.items()}\n",
    "\n",
    "# Normalize probabilities\n",
    "norm_prob = {k: v / sum(item_prob.values()) for k, v in item_prob.items()}\n",
    "\n",
    "# Create a cumulative distribution\n",
    "cum_dist = {}\n",
    "cumulative = 0\n",
    "for k, v in norm_prob.items():\n",
    "    cumulative += v\n",
    "    cum_dist[k] = cumulative\n",
    "\n",
    "# Sample from the distribution\n",
    "random_num = random.random()\n",
    "for k, v in cum_dist.items():\n",
    "    if random_num <= v:\n",
    "        print(\"Sampled item:\", k)\n",
    "        break"
   ]
  },
  {
   "cell_type": "code",
   "execution_count": 36,
   "id": "b441394a",
   "metadata": {},
   "outputs": [
    {
     "data": {
      "text/plain": [
       "{'A': array([5.79475497e-17]),\n",
       " 'B': array([8.69213245e-17]),\n",
       " 'C': array([2.89737748e-17]),\n",
       " 'D': array([1.15895099e-16]),\n",
       " 'E1': array([2.20024873e-09]),\n",
       " 'E2': array([2.86260895e-14]),\n",
       " 'E3': array([1.42217774e-13]),\n",
       " 'E4': array([2.23448649e-13]),\n",
       " 'E5': array([3.99454596e-05]),\n",
       " 'E6': array([0.79527263]),\n",
       " 'E7': array([7.01484063e-14]),\n",
       " 'E8': array([0.2045619]),\n",
       " 'E9': array([1.92744249e-09]),\n",
       " 'E10': array([0.00012552])}"
      ]
     },
     "execution_count": 36,
     "metadata": {},
     "output_type": "execute_result"
    }
   ],
   "source": [
    "norm_prob\n"
   ]
  },
  {
   "cell_type": "code",
   "execution_count": 37,
   "id": "68d8e534",
   "metadata": {},
   "outputs": [
    {
     "name": "stdout",
     "output_type": "stream",
     "text": [
      "Sampled item: Item10\n"
     ]
    }
   ],
   "source": [
    "# Example sample of items\n",
    "sample = {'A': 5, 'B': 8, 'C': 3}\n",
    "\n",
    "# Calculate the total count of the sample\n",
    "total_count = sum(sample.values())\n",
    "\n",
    "# Calculate the average count per item\n",
    "avg_count = total_count / len(sample)\n",
    "\n",
    "# Calculate the slope of the counts\n",
    "slope = (max(sample.values()) - min(sample.values())) / (len(sample) - 1)\n",
    "\n",
    "# Calculate the y-intercept of the counts\n",
    "y_intercept = min(sample.values()) - slope\n",
    "\n",
    "# Extrapolate the counts for the new items\n",
    "new_counts = {}\n",
    "for i in range(len(sample), 10):\n",
    "    count = int(slope * i + y_intercept)\n",
    "    new_counts[f'Item{i+1}'] = count\n",
    "\n",
    "# Combine the observed and extrapolated counts\n",
    "item_freq = {**sample, **new_counts}\n",
    "\n",
    "# Calculate total number of occurrences\n",
    "total_occurrences = sum(item_freq.values())\n",
    "\n",
    "# Calculate probabilities for each item\n",
    "item_prob = {k: v / total_occurrences for k, v in item_freq.items()}\n",
    "\n",
    "# Normalize probabilities\n",
    "norm_prob = {k: v / sum(item_prob.values()) for k, v in item_prob.items()}\n",
    "\n",
    "# Create a cumulative distribution\n",
    "cum_dist = {}\n",
    "cumulative = 0\n",
    "for k, v in norm_prob.items():\n",
    "    cumulative += v\n",
    "    cum_dist[k] = cumulative\n",
    "\n",
    "# Sample from the distribution\n",
    "random_num = random.random()\n",
    "for k, v in cum_dist.items():\n",
    "    if random_num <= v:\n",
    "        print(\"Sampled item:\", k)\n",
    "        break"
   ]
  },
  {
   "cell_type": "code",
   "execution_count": 38,
   "id": "673b343f",
   "metadata": {},
   "outputs": [
    {
     "data": {
      "text/plain": [
       "2.5"
      ]
     },
     "execution_count": 38,
     "metadata": {},
     "output_type": "execute_result"
    }
   ],
   "source": [
    "slope"
   ]
  },
  {
   "cell_type": "code",
   "execution_count": 39,
   "id": "24226616",
   "metadata": {},
   "outputs": [
    {
     "name": "stdout",
     "output_type": "stream",
     "text": [
      "Sampled item index: 28\n"
     ]
    },
    {
     "data": {
      "image/png": "[encoded data removed]",
      "text/plain": [
       "<Figure size 640x480 with 1 Axes>"
      ]
     },
     "metadata": {},
     "output_type": "display_data"
    }
   ],
   "source": [
    "import numpy as np\n",
    "\n",
    "# Set the number of items and the lambda parameter\n",
    "n_items = 1000\n",
    "lam = 0.01\n",
    "\n",
    "# Create a list of item indices\n",
    "item_indices = np.arange(n_items)\n",
    "\n",
    "# Calculate the popularity of each item\n",
    "popularity = np.exp(-lam * item_indices)\n",
    "\n",
    "# Normalize the popularity values\n",
    "popularity /= popularity.sum()\n",
    "\n",
    "# Create a cumulative distribution\n",
    "cum_dist = np.cumsum(popularity)\n",
    "\n",
    "# Sample from the distribution\n",
    "random_num = np.random.random()\n",
    "item_idx = np.searchsorted(cum_dist, random_num)\n",
    "print(\"Sampled item index:\", item_idx)\n",
    "\n",
    "plt.plot(item_indices, cum_dist)\n",
    "plt.xlabel('item_indices')\n",
    "plt.ylabel('cum_dist')\n",
    "plt.show()"
   ]
  },
  {
   "cell_type": "code",
   "execution_count": 40,
   "id": "1a046eba",
   "metadata": {},
   "outputs": [
    {
     "data": {
      "text/plain": [
       "[('1', 0.2613065326633166),\n",
       " ('100', 0.4371859296482412),\n",
       " ('3', 0.15577889447236182),\n",
       " ('2', 0.1457286432160804)]"
      ]
     },
     "execution_count": 40,
     "metadata": {},
     "output_type": "execute_result"
    }
   ],
   "source": [
    "import numpy as np\n",
    "from scipy.interpolate import interp1d\n",
    "\n",
    "# Example item frequencies\n",
    "item_freq = {'1': 5.2, '100': 8.7, '3': 3.1, '2': 2.9}\n",
    "\n",
    "# Normalize the frequencies and create a sorted list of item IDs and probabilities\n",
    "item_probs = np.array(list(item_freq.values())) / sum(item_freq.values())\n",
    "list(zip(item_freq.keys(), item_probs))"
   ]
  },
  {
   "cell_type": "code",
   "execution_count": 41,
   "id": "43999483",
   "metadata": {},
   "outputs": [
    {
     "name": "stdout",
     "output_type": "stream",
     "text": [
      "Sampled item ID: 75.01486591608496\n"
     ]
    }
   ],
   "source": [
    "item_ids, item_probs = zip(*sorted(zip(item_freq.keys(), item_probs)))\n",
    "\n",
    "# Create a linearly interpolated distribution function\n",
    "interp_func = interp1d(np.cumsum(item_probs), item_ids, kind='linear')\n",
    "\n",
    "# Sample from the distribution\n",
    "random_num = np.random.random()\n",
    "sampled_id = interp_func(random_num)\n",
    "\n",
    "print(\"Sampled item ID:\", sampled_id)"
   ]
  },
  {
   "cell_type": "code",
   "execution_count": 42,
   "id": "f748e984",
   "metadata": {},
   "outputs": [
    {
     "name": "stdout",
     "output_type": "stream",
     "text": [
      "Sampled item ID: C\n"
     ]
    }
   ],
   "source": [
    "import numpy as np\n",
    "\n",
    "# Example item frequencies\n",
    "item_freq = {'A': 5.2, 'B': 8.7, 'C': 3.1, 'D': 2.9}\n",
    "\n",
    "# Desired number of items\n",
    "n_items = 20\n",
    "\n",
    "# Calculate the total frequency of the original items\n",
    "total_freq = sum(item_freq.values())\n",
    "\n",
    "# Calculate the frequency of the zero-padded items\n",
    "zero_freq = (n_items - len(item_freq)) * [0]\n",
    "\n",
    "# Calculate the normalized frequencies of all the items\n",
    "all_freq = list(item_freq.values()) + zero_freq\n",
    "all_probs = np.array(all_freq) / (total_freq + sum(zero_freq))\n",
    "\n",
    "# Sample from the distribution\n",
    "sampled_id = np.random.choice(list(item_freq.keys()) + (n_items - len(item_freq)) * ['new_item'], p=all_probs)\n",
    "\n",
    "print(\"Sampled item ID:\", sampled_id)"
   ]
  },
  {
   "cell_type": "code",
   "execution_count": 45,
   "id": "4a25f379",
   "metadata": {},
   "outputs": [
    {
     "name": "stdout",
     "output_type": "stream",
     "text": [
      "Sampled item ID: 1.1972483140796166\n"
     ]
    }
   ],
   "source": [
    "import numpy as np\n",
    "from scipy.optimize import curve_fit\n",
    "\n",
    "# Example item frequencies\n",
    "item_freq = {1: 5.2, 2: 8.7, 3: 3.1, 4: 2.9}\n",
    "\n",
    "# Normalize the frequencies and create a sorted list of item IDs and probabilities\n",
    "item_probs = np.array(list(item_freq.values())) / sum(item_freq.values())\n",
    "item_ids, item_probs = zip(*sorted(zip(item_freq.keys(), item_probs)))\n",
    "\n",
    "# Define an exponential function for extrapolation\n",
    "def exp_func(x, a, b):\n",
    "    return a * np.exp(b * x)\n",
    "\n",
    "# Fit the exponential function to the observed data\n",
    "x_data = np.arange(len(item_ids))\n",
    "popt, pcov = curve_fit(exp_func, x_data, item_probs)\n",
    "\n",
    "# Generate probabilities for new items using the extrapolated function\n",
    "new_item_ids = [5, 6,7]  # Example new item IDs\n",
    "new_item_probs = exp_func(np.arange(len(item_ids), len(item_ids) + len(new_item_ids)), *popt)\n",
    "new_item_probs /= sum(new_item_probs)  # Normalize the probabilities\n",
    "\n",
    "# Combine the new item IDs and probabilities with the observed data\n",
    "all_item_ids = item_ids + tuple(new_item_ids)\n",
    "all_item_probs = np.concatenate((item_probs, new_item_probs))\n",
    "\n",
    "# Create a linearly interpolated distribution function\n",
    "interp_func = interp1d(np.cumsum(all_item_probs), all_item_ids, kind='linear')\n",
    "\n",
    "# Sample from the distribution\n",
    "random_num = np.random.random()\n",
    "sampled_id = interp_func(random_num)\n",
    "\n",
    "print(\"Sampled item ID:\", sampled_id)"
   ]
  },
  {
   "cell_type": "code",
   "execution_count": 47,
   "id": "e95ac42d",
   "metadata": {},
   "outputs": [
    {
     "data": {
      "text/plain": [
       "array([0.12434898, 0.25735336])"
      ]
     },
     "execution_count": 47,
     "metadata": {},
     "output_type": "execute_result"
    }
   ],
   "source": [
    "np.sqrt(np.diag(pcov))"
   ]
  },
  {
   "cell_type": "code",
   "execution_count": null,
   "id": "3a76b524",
   "metadata": {},
   "outputs": [],
   "source": []
  }
 ],
 "metadata": {
  "kernelspec": {
   "display_name": "Python 3 (ipykernel)",
   "language": "python",
   "name": "python3"
  },
  "language_info": {
   "codemirror_mode": {
    "name": "ipython",
    "version": 3
   },
   "file_extension": ".py",
   "mimetype": "text/x-python",
   "name": "python",
   "nbconvert_exporter": "python",
   "pygments_lexer": "ipython3",
   "version": "3.9.13"
  }
 },
 "nbformat": 4,
 "nbformat_minor": 5
}
