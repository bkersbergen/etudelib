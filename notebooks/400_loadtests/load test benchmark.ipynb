{
 "cells": [
  {
   "cell_type": "code",
   "execution_count": 6,
   "id": "79a6c201",
   "metadata": {},
   "outputs": [],
   "source": [
    "import pandavro as pdx\n",
    "import pandas as pd\n",
    "import matplotlib as plt\n",
    "from matplotlib import pyplot as plt, ticker as mticker\n",
    "import json\n",
    "import numpy as np"
   ]
  },
  {
   "cell_type": "code",
   "execution_count": 7,
   "id": "54e85433",
   "metadata": {},
   "outputs": [
    {
     "data": {
      "text/html": [
       "<style>.container { width:100% !important; }</style>"
      ],
      "text/plain": [
       "<IPython.core.display.HTML object>"
      ]
     },
     "metadata": {},
     "output_type": "display_data"
    }
   ],
   "source": [
    "from IPython.display import display, HTML\n",
    "display(HTML(\"<style>.container { width:100% !important; }</style>\"))"
   ]
  },
  {
   "cell_type": "code",
   "execution_count": 8,
   "id": "5f7fb427",
   "metadata": {},
   "outputs": [
    {
     "data": {
      "text/plain": [
       "3242"
      ]
     },
     "execution_count": 8,
     "metadata": {},
     "output_type": "execute_result"
    }
   ],
   "source": [
    "filename='/tmp/etude/report.avro'\n",
    "df = pdx.from_avro(filename)\n",
    "len(df)"
   ]
  },
  {
   "cell_type": "code",
   "execution_count": 9,
   "id": "c8c9018b",
   "metadata": {},
   "outputs": [
    {
     "data": {
      "text/html": [
       "<div>\n",
       "<style scoped>\n",
       "    .dataframe tbody tr th:only-of-type {\n",
       "        vertical-align: middle;\n",
       "    }\n",
       "\n",
       "    .dataframe tbody tr th {\n",
       "        vertical-align: top;\n",
       "    }\n",
       "\n",
       "    .dataframe thead th {\n",
       "        text-align: right;\n",
       "    }\n",
       "</style>\n",
       "<table border=\"1\" class=\"dataframe\">\n",
       "  <thead>\n",
       "    <tr style=\"text-align: right;\">\n",
       "      <th></th>\n",
       "      <th>interactions</th>\n",
       "    </tr>\n",
       "  </thead>\n",
       "  <tbody>\n",
       "    <tr>\n",
       "      <th>0</th>\n",
       "      <td>{'input': [941779], 'output': [1, 2, 3, 4, 5, ...</td>\n",
       "    </tr>\n",
       "    <tr>\n",
       "      <th>1</th>\n",
       "      <td>{'input': [551900], 'output': [1, 2, 3, 4, 5, ...</td>\n",
       "    </tr>\n",
       "    <tr>\n",
       "      <th>1</th>\n",
       "      <td>{'input': [551900, 151012], 'output': [1, 2, 3...</td>\n",
       "    </tr>\n",
       "    <tr>\n",
       "      <th>2</th>\n",
       "      <td>{'input': [985971], 'output': [1, 2, 3, 4, 5, ...</td>\n",
       "    </tr>\n",
       "    <tr>\n",
       "      <th>2</th>\n",
       "      <td>{'input': [985971, 238786], 'output': [1, 2, 3...</td>\n",
       "    </tr>\n",
       "    <tr>\n",
       "      <th>...</th>\n",
       "      <td>...</td>\n",
       "    </tr>\n",
       "    <tr>\n",
       "      <th>3240</th>\n",
       "      <td>{'input': [146050], 'output': [1, 2, 3, 4, 5, ...</td>\n",
       "    </tr>\n",
       "    <tr>\n",
       "      <th>3240</th>\n",
       "      <td>{'input': [146050, 388853], 'output': [1, 2, 3...</td>\n",
       "    </tr>\n",
       "    <tr>\n",
       "      <th>3241</th>\n",
       "      <td>{'input': [971744], 'output': [1, 2, 3, 4, 5, ...</td>\n",
       "    </tr>\n",
       "    <tr>\n",
       "      <th>3241</th>\n",
       "      <td>{'input': [971744, 724034], 'output': [1, 2, 3...</td>\n",
       "    </tr>\n",
       "    <tr>\n",
       "      <th>3241</th>\n",
       "      <td>{'input': [971744, 724034, 382990], 'output': ...</td>\n",
       "    </tr>\n",
       "  </tbody>\n",
       "</table>\n",
       "<p>7697 rows × 1 columns</p>\n",
       "</div>"
      ],
      "text/plain": [
       "                                           interactions\n",
       "0     {'input': [941779], 'output': [1, 2, 3, 4, 5, ...\n",
       "1     {'input': [551900], 'output': [1, 2, 3, 4, 5, ...\n",
       "1     {'input': [551900, 151012], 'output': [1, 2, 3...\n",
       "2     {'input': [985971], 'output': [1, 2, 3, 4, 5, ...\n",
       "2     {'input': [985971, 238786], 'output': [1, 2, 3...\n",
       "...                                                 ...\n",
       "3240  {'input': [146050], 'output': [1, 2, 3, 4, 5, ...\n",
       "3240  {'input': [146050, 388853], 'output': [1, 2, 3...\n",
       "3241  {'input': [971744], 'output': [1, 2, 3, 4, 5, ...\n",
       "3241  {'input': [971744, 724034], 'output': [1, 2, 3...\n",
       "3241  {'input': [971744, 724034, 382990], 'output': ...\n",
       "\n",
       "[7697 rows x 1 columns]"
      ]
     },
     "execution_count": 9,
     "metadata": {},
     "output_type": "execute_result"
    }
   ],
   "source": [
    "df.explode('interactions')"
   ]
  },
  {
   "cell_type": "code",
   "execution_count": null,
   "id": "118624c4",
   "metadata": {},
   "outputs": [],
   "source": []
  }
 ],
 "metadata": {
  "kernelspec": {
   "display_name": "Python 3 (ipykernel)",
   "language": "python",
   "name": "python3"
  },
  "language_info": {
   "codemirror_mode": {
    "name": "ipython",
    "version": 3
   },
   "file_extension": ".py",
   "mimetype": "text/x-python",
   "name": "python",
   "nbconvert_exporter": "python",
   "pygments_lexer": "ipython3",
   "version": "3.9.6"
  }
 },
 "nbformat": 4,
 "nbformat_minor": 5
}
