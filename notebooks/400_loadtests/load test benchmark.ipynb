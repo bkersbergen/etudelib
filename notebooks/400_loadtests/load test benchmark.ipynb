{
 "cells": [
  {
   "cell_type": "code",
   "execution_count": 1,
   "id": "79a6c201",
   "metadata": {},
   "outputs": [],
   "source": [
    "import pandavro as pdx\n",
    "import pandas as pd\n",
    "import matplotlib as plt\n",
    "from matplotlib import pyplot as plt, ticker as mticker\n",
    "import json\n",
    "import numpy as np"
   ]
  },
  {
   "cell_type": "code",
   "execution_count": 2,
   "id": "54e85433",
   "metadata": {},
   "outputs": [
    {
     "data": {
      "text/html": [
       "<style>.container { width:100% !important; }</style>"
      ],
      "text/plain": [
       "<IPython.core.display.HTML object>"
      ]
     },
     "metadata": {},
     "output_type": "display_data"
    }
   ],
   "source": [
    "from IPython.display import display, HTML\n",
    "display(HTML(\"<style>.container { width:100% !important; }</style>\"))\n",
    "pd.set_option('display.max_colwidth', None)"
   ]
  },
  {
   "cell_type": "code",
   "execution_count": 3,
   "id": "5f7fb427",
   "metadata": {},
   "outputs": [
    {
     "data": {
      "text/plain": [
       "17976"
      ]
     },
     "execution_count": 3,
     "metadata": {},
     "output_type": "execute_result"
    }
   ],
   "source": [
    "filename='../../projects/benchmark/loadtest/noop_bolcom_c1000000_t50_eager_cpu.avro'\n",
    "\n",
    "df = pdx.from_avro(filename)\n",
    "len(df)"
   ]
  },
  {
   "cell_type": "code",
   "execution_count": 4,
   "id": "c8c9018b",
   "metadata": {},
   "outputs": [],
   "source": [
    "df2 = df.explode('interactions')\n",
    "latency_df = df2['interactions'].apply(pd.Series )"
   ]
  },
  {
   "cell_type": "code",
   "execution_count": 5,
   "id": "118624c4",
   "metadata": {},
   "outputs": [],
   "source": [
    "latency_df['DateTime'] = pd.to_datetime(latency_df['timestamp_epoch_millis'], unit='ms')\n",
    "filtered_df = latency_df[latency_df['DateTime'] >= (latency_df['DateTime'].min() + pd.Timedelta(seconds=5))]"
   ]
  },
  {
   "cell_type": "code",
   "execution_count": 18,
   "id": "16f83022",
   "metadata": {},
   "outputs": [
    {
     "data": {
      "text/plain": [
       "array([18., 18., 18.])"
      ]
     },
     "execution_count": 18,
     "metadata": {},
     "output_type": "execute_result"
    }
   ],
   "source": [
    "np.percentile(filtered_df['latency_millis'], q=[0.9, 0.95, 0.99])"
   ]
  },
  {
   "cell_type": "code",
   "execution_count": 19,
   "id": "7d4712ec",
   "metadata": {},
   "outputs": [
    {
     "data": {
      "text/plain": [
       "array([0.14874087, 0.14912446, 0.14936637])"
      ]
     },
     "execution_count": 19,
     "metadata": {},
     "output_type": "execute_result"
    }
   ],
   "source": [
    "np.percentile(filtered_df['preprocessing_millis'], q=[0.9, 0.95, 0.99])"
   ]
  },
  {
   "cell_type": "code",
   "execution_count": 20,
   "id": "8990bef6",
   "metadata": {},
   "outputs": [
    {
     "data": {
      "text/plain": [
       "array([7.09410105, 7.1090317 , 7.12396969])"
      ]
     },
     "execution_count": 20,
     "metadata": {},
     "output_type": "execute_result"
    }
   ],
   "source": [
    "np.percentile(filtered_df['inferencing_millis'], q=[0.9, 0.95, 0.99])"
   ]
  },
  {
   "cell_type": "code",
   "execution_count": 21,
   "id": "34ad3f05",
   "metadata": {},
   "outputs": [
    {
     "data": {
      "text/plain": [
       "array([0.06335149, 0.06347405, 0.063563  ])"
      ]
     },
     "execution_count": 21,
     "metadata": {},
     "output_type": "execute_result"
    }
   ],
   "source": [
    "np.percentile(filtered_df['processing_millis'], q=[0.9, 0.95, 0.99])"
   ]
  },
  {
   "cell_type": "code",
   "execution_count": null,
   "id": "997de975",
   "metadata": {},
   "outputs": [],
   "source": []
  }
 ],
 "metadata": {
  "kernelspec": {
   "display_name": "Python 3 (ipykernel)",
   "language": "python",
   "name": "python3"
  },
  "language_info": {
   "codemirror_mode": {
    "name": "ipython",
    "version": 3
   },
   "file_extension": ".py",
   "mimetype": "text/x-python",
   "name": "python",
   "nbconvert_exporter": "python",
   "pygments_lexer": "ipython3",
   "version": "3.9.6"
  }
 },
 "nbformat": 4,
 "nbformat_minor": 5
}
