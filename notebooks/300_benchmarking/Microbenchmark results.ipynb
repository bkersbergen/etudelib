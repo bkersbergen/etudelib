{
 "cells": [
  {
   "cell_type": "code",
   "execution_count": 5,
   "id": "a8dbb4e2",
   "metadata": {},
   "outputs": [],
   "source": [
    "import pickle\n",
    "import pandas as pd\n",
    "import os\n",
    "import matplotlib\n",
    "import matplotlib.pyplot as plt\n",
    "import numpy as np\n",
    "import seaborn as sns\n",
    "\n",
    "matplotlib.rcParams['figure.figsize'] = (16.0, 6.0)\n",
    "plt.rcParams['pdf.fonttype'] = 3\n",
    "plt.rc('text', usetex=True)\n",
    "plt.rcParams['font.sans-serif'] = \"Arial\"\n",
    "plt.rcParams['font.family'] = \"sans-serif\""
   ]
  },
  {
   "cell_type": "code",
   "execution_count": 3,
   "id": "416ab776",
   "metadata": {},
   "outputs": [],
   "source": [
    "def read_results(result_path):\n",
    "    with open(result_path, 'rb') as file:\n",
    "        results = pickle.load(file)\n",
    "    return results"
   ]
  },
  {
   "cell_type": "code",
   "execution_count": 7,
   "id": "91ec7a2c",
   "metadata": {},
   "outputs": [],
   "source": [
    "def get_results(modelname, runtime, device, datasource):\n",
    "    result_path = '../../projects/benchmark/results'\n",
    "    result = {}\n",
    "    for C in np.array([100_000, 1_000_000, 10_000_000, 20_000_000]):\n",
    "        filename = f'{modelname}_{runtime}_{device}_{datasource}_C{C}_t50_results.pickle'\n",
    "        f = os.path.join(result_path, filename)\n",
    "        if os.path.isfile(f):\n",
    "            r = read_results(f)\n",
    "            result[C] = r['latency_df']\n",
    "    return result"
   ]
  },
  {
   "cell_type": "code",
   "execution_count": 8,
   "id": "396909ff",
   "metadata": {
    "scrolled": false
   },
   "outputs": [
    {
     "ename": "KeyError",
     "evalue": "10000000",
     "output_type": "error",
     "traceback": [
      "\u001b[1;31m---------------------------------------------------------------------------\u001b[0m",
      "\u001b[1;31mKeyError\u001b[0m                                  Traceback (most recent call last)",
      "Cell \u001b[1;32mIn[8], line 22\u001b[0m\n\u001b[0;32m     20\u001b[0m results \u001b[39m=\u001b[39m get_results(model_name, runtime\u001b[39m=\u001b[39m\u001b[39m'\u001b[39m\u001b[39meager\u001b[39m\u001b[39m'\u001b[39m, device\u001b[39m=\u001b[39m\u001b[39m'\u001b[39m\u001b[39mcpu\u001b[39m\u001b[39m'\u001b[39m, datasource\u001b[39m=\u001b[39mdatasource)\n\u001b[0;32m     21\u001b[0m C\u001b[39m=\u001b[39m\u001b[39m10_000_000\u001b[39m\n\u001b[1;32m---> 22\u001b[0m latency_df \u001b[39m=\u001b[39m results[C]\n\u001b[0;32m     23\u001b[0m filtered_df \u001b[39m=\u001b[39m latency_df[latency_df[\u001b[39m'\u001b[39m\u001b[39mDateTime\u001b[39m\u001b[39m'\u001b[39m] \u001b[39m>\u001b[39m\u001b[39m=\u001b[39m (latency_df[\u001b[39m'\u001b[39m\u001b[39mDateTime\u001b[39m\u001b[39m'\u001b[39m]\u001b[39m.\u001b[39mmin() \u001b[39m+\u001b[39m pd\u001b[39m.\u001b[39mTimedelta(seconds\u001b[39m=\u001b[39m\u001b[39m5\u001b[39m))]\n\u001b[0;32m     24\u001b[0m q90 \u001b[39m=\u001b[39m np\u001b[39m.\u001b[39mpercentile(filtered_df[\u001b[39m'\u001b[39m\u001b[39mLatencyInMs\u001b[39m\u001b[39m'\u001b[39m], q\u001b[39m=\u001b[39m[\u001b[39m0.9\u001b[39m])\n",
      "\u001b[1;31mKeyError\u001b[0m: 10000000"
     ]
    },
    {
     "data": {
      "image/png": "[encoded data removed]",
      "text/plain": [
       "<Figure size 1600x600 with 10 Axes>"
      ]
     },
     "metadata": {},
     "output_type": "display_data"
    }
   ],
   "source": [
    "import matplotlib.ticker as ticker\n",
    "model_names =  ['core', 'gcsan', 'gru4rec', 'lightsans', 'narm', 'repeatnet', 'sasrec', 'sine', 'srgnn',\n",
    "                        'stamp']\n",
    "colors = [ 'b',  'g', 'r',  'w','c', 'm','y','k',]\n",
    "markers = ['D', '+','x','D']\n",
    "lss=['--','-.',':','-']\n",
    "\n",
    "runtimes = ['eager', 'jitopt', 'onnx']\n",
    "devices = ['cpu', 'cuda']\n",
    "datasource = 'bolcom'\n",
    "\n",
    "# We divide the 10 models over rows and columns\n",
    "rows=2\n",
    "cols=5\n",
    "fig, axs = plt.subplots(rows, cols)\n",
    "\n",
    "# start sort the models on their p90 latency on eager-CPU for C10M ASC\n",
    "my_list = []\n",
    "for model_name in model_names:\n",
    "    results = get_results(model_name, runtime='eager', device='cpu', datasource=datasource)\n",
    "    C = 10_000_000\n",
    "    latency_df = results[C]\n",
    "    filtered_df = latency_df[latency_df['DateTime'] >= (latency_df['DateTime'].min() + pd.Timedelta(seconds=5))]\n",
    "    q90 = np.percentile(filtered_df['LatencyInMs'], q=[0.9])\n",
    "    my_list.append((model_name, q90[0]))\n",
    "    \n",
    "sorted_list = sorted(my_list, key=lambda x: x[1])\n",
    "model_names = [item[0] for item in sorted_list]\n",
    "# start sort the models on their p90 latency on eager-CPU for C10M ASC\n",
    "\n",
    "# Loop through each subplot and create multiple plots\n",
    "for i in range(rows):\n",
    "    for j in range(cols):\n",
    "        ax = axs[i, j]  # select the current axis\n",
    "        idx = i*cols+j\n",
    "        model_name = model_names[idx]\n",
    "        for runtime in runtimes:\n",
    "            for device in devices:\n",
    "                results = get_results(model_name, runtime, device, datasource)\n",
    "                if len(results) > 0:\n",
    "                    q90s = []\n",
    "                    cs = []\n",
    "                    for C, latency_df in results.items():\n",
    "                        filtered_df = latency_df[latency_df['DateTime'] >= (latency_df['DateTime'].min() + pd.Timedelta(seconds=5))]\n",
    "                        q90 = np.percentile(filtered_df['LatencyInMs'], q=[0.9])\n",
    "                        q90s.append(q90)\n",
    "                        cs.append(C)\n",
    "                    color = colors[devices.index(device)]\n",
    "                    marker = markers[runtimes.index(runtime)]\n",
    "                    ls = lss[runtimes.index(runtime)]\n",
    "                    ax.plot(cs, q90s, color=color, marker=marker, label=f'{runtime} {device}', linestyle=ls, alpha=0.7)    \n",
    "        ax.set_title(f'Inference latency for {model_name}')\n",
    "        ax.set_ylim([0.07, 1e4])\n",
    "        threshold=40\n",
    "        ax.axhline(y = threshold, color = 'r', label = f'{threshold}ms')\n",
    "        ax.tick_params(axis='both', which='major', labelsize=14)\n",
    "        ax.tick_params(axis='both', which='minor', labelsize=14)\n",
    "        ax.set_yscale('log')\n",
    "        ax.set_xscale('log')\n",
    "        ax.set_ylabel('Latency (ms) p90')\n",
    "        ax.set_xlabel('C')\n",
    "        if idx == 0:\n",
    "            ax.legend(loc=2, fontsize=10, ncol=2)\n",
    "plt.tight_layout()  # adjust the spacing between subplots\n",
    "# plt.savefig(f'sbr_models_{datasource}.pdf', bbox_inches='tight')\n",
    "plt.show()  # display the figure"
   ]
  },
  {
   "cell_type": "code",
   "execution_count": null,
   "id": "b1d92dc2",
   "metadata": {},
   "outputs": [],
   "source": []
  },
  {
   "cell_type": "code",
   "execution_count": null,
   "id": "12dceb52",
   "metadata": {},
   "outputs": [],
   "source": []
  },
  {
   "cell_type": "code",
   "execution_count": null,
   "id": "a50cadc5",
   "metadata": {},
   "outputs": [],
   "source": []
  },
  {
   "cell_type": "code",
   "execution_count": null,
   "id": "647ef51f",
   "metadata": {},
   "outputs": [],
   "source": []
  },
  {
   "cell_type": "code",
   "execution_count": null,
   "id": "4dcf15fc",
   "metadata": {},
   "outputs": [],
   "source": []
  }
 ],
 "metadata": {
  "kernelspec": {
   "display_name": "Python 3 (ipykernel)",
   "language": "python",
   "name": "python3"
  },
  "language_info": {
   "codemirror_mode": {
    "name": "ipython",
    "version": 3
   },
   "file_extension": ".py",
   "mimetype": "text/x-python",
   "name": "python",
   "nbconvert_exporter": "python",
   "pygments_lexer": "ipython3",
   "version": "3.9.16"
  }
 },
 "nbformat": 4,
 "nbformat_minor": 5
}
