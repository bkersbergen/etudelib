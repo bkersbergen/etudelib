{
 "cells": [
  {
   "cell_type": "code",
   "execution_count": 1,
   "id": "a8dbb4e2",
   "metadata": {},
   "outputs": [],
   "source": [
    "import pickle\n",
    "import pandas as pd\n",
    "import matplotlib\n",
    "import matplotlib.pyplot as plt\n",
    "import numpy as np\n",
    "from pathlib import Path\n",
    "\n",
    "matplotlib.rcParams['figure.figsize'] = (16.0, 6.0)\n",
    "plt.rcParams['pdf.fonttype'] = 3\n",
    "plt.rc('text', usetex=True)\n",
    "plt.rcParams['font.sans-serif'] = \"Arial\"\n",
    "plt.rcParams['font.family'] = \"sans-serif\""
   ]
  },
  {
   "cell_type": "code",
   "execution_count": 2,
   "id": "416ab776",
   "metadata": {},
   "outputs": [],
   "source": [
    "def read_results(result_path):\n",
    "    with open(result_path, 'rb') as file:\n",
    "        results = pickle.load(file)\n",
    "    return results"
   ]
  },
  {
   "cell_type": "code",
   "execution_count": 3,
   "id": "91ec7a2c",
   "metadata": {},
   "outputs": [],
   "source": [
    "def get_results(modelname, runtime, device, datasource, directory):\n",
    "    result = {}\n",
    "    for root, dirs, files in os.walk(str(directory)):\n",
    "        for file in files:\n",
    "            if file.startswith(f'{modelname}_{runtime}_{device}_{datasource}'):\n",
    "                C = int([part[1:] for part in file.split('_') if part.startswith('c')][-1])\n",
    "                local_path = os.path.join(root, file)\n",
    "                filename = f'{modelname}_{runtime}_{device}_{datasource}_c{C}_t50_results.pickle'\n",
    "                f = os.path.join(directory, filename)\n",
    "                if os.path.isfile(f):\n",
    "                    r = read_results(f)\n",
    "                    result[C] = r['latency_df']\n",
    "    return result"
   ]
  },
  {
   "cell_type": "code",
   "execution_count": 4,
   "id": "396909ff",
   "metadata": {
    "scrolled": false
   },
   "outputs": [],
   "source": [
    "def createplot(directory: str):\n",
    "    import matplotlib.ticker as ticker\n",
    "    # model_names =  ['core', 'gcsan', 'gru4rec', 'lightsans', 'narm', 'repeatnet', 'sasrec', 'sine', 'srgnn',\n",
    "    #                         'stamp']\n",
    "    model_names =  ['core', 'gcsan', 'gru4rec', 'lightsans', 'narm', 'noop', 'random', 'repeatnet', 'sasrec', 'sine', 'srgnn',\n",
    "                           'stamp']\n",
    "    colors = [ 'b',  'g', 'r',  'w','c', 'm','y','k',]\n",
    "    markers = ['D', '+','x','D']\n",
    "    lss=['--','-.',':','-']\n",
    "\n",
    "    runtimes = ['eager', 'jitopt']\n",
    "    devices = ['cpu', 'cuda']\n",
    "    datasource = 'bolcom'\n",
    "\n",
    "    # We divide the 10 models over rows and columns\n",
    "    rows=3\n",
    "    cols=4\n",
    "    fig, axs = plt.subplots(rows, cols)\n",
    "\n",
    "    # start sort the models on their p90 latency on eager-CPU for C10M ASC\n",
    "    my_list = []\n",
    "    for model_name in model_names:\n",
    "        results = get_results(model_name, runtime='jitopt', device='cpu', datasource=datasource,directory=directory)\n",
    "        if len(results) > 0:\n",
    "            C=1000000\n",
    "            latency_df = results[C]\n",
    "            filtered_df = latency_df[latency_df['DateTime'] >= (latency_df['DateTime'].min() + pd.Timedelta(seconds=5))]\n",
    "            q90 = np.percentile(filtered_df['LatencyInMs'], q=[0.9])\n",
    "            my_list.append((model_name, q90[0]))\n",
    "\n",
    "    sorted_list = sorted(my_list, key=lambda x: x[1])\n",
    "    model_names = [item[0] for item in sorted_list]\n",
    "    # start sort the models on their p90 latency on eager-CPU for C10M ASC\n",
    "\n",
    "    # Loop through each subplot and create multiple plots\n",
    "    for idx, model_name in enumerate(model_names):\n",
    "        row = idx // 4\n",
    "        column = idx % 4\n",
    "        print(f\"{model_name} is in row {row}, column {column}\")\n",
    "        ax = axs[row, column]\n",
    "        for runtime in runtimes:\n",
    "            for device in devices:\n",
    "                results = get_results(model_name, runtime, device, datasource, directory)\n",
    "                if len(results) > 0:\n",
    "                    q90s = []\n",
    "                    cs = []\n",
    "                    qty = []\n",
    "                    for C, latency_df in results.items():\n",
    "                        filtered_df = latency_df[latency_df['DateTime'] >= (latency_df['DateTime'].min() + pd.Timedelta(seconds=5))]\n",
    "                        q90 = np.percentile(filtered_df['LatencyInMs'], q=[0.9])\n",
    "                        q90s.append(q90)\n",
    "                        qty.append(len(filtered_df))\n",
    "                        cs.append(C)\n",
    "                    color = colors[devices.index(device)]\n",
    "                    marker = markers[runtimes.index(runtime)]\n",
    "                    ls = lss[runtimes.index(runtime)]\n",
    "                    # combine the two lists using zip()\n",
    "                    combined = zip(cs, q90s, qty)\n",
    "                    # sort the combined list by the values in the first list\n",
    "                    sorted_combined = sorted(combined, key=lambda x: x[0])\n",
    "                    # unzip the sorted values to get the sorted lists\n",
    "                    cs, q90s, qty = zip(*sorted_combined)\n",
    "                    label=f'{runtime} {device}'\n",
    "                    # print(f'{model_name} {label} {list(sorted_combined)}')\n",
    "                    ax.plot(cs, q90s, color=color, marker=marker, label=label, linestyle=ls, alpha=0.7)    \n",
    "        ax.set_title(f'Inference latency for {model_name}')\n",
    "        ax.set_ylim([0.1, 120])\n",
    "        threshold=40\n",
    "        ax.axhline(y = threshold, color = 'r', label = f'{threshold}ms')\n",
    "        ax.tick_params(axis='both', which='major', labelsize=14)\n",
    "        ax.tick_params(axis='both', which='minor', labelsize=14)\n",
    "        # ax.set_yscale('log')\n",
    "        ax.set_xscale('log')\n",
    "        ax.set_ylabel('Latency (ms) p90')\n",
    "        ax.set_xlabel('C')\n",
    "        if idx == 0:\n",
    "            ax.legend(loc=2, fontsize=10, ncol=2)\n",
    "    fig.suptitle(directory)            \n",
    "    plt.tight_layout()  # adjust the spacing between subplots\n",
    "    plt.savefig(f'sbr_models_{datasource}.pdf', bbox_inches='tight')\n",
    "    plt.show()  # display the figure"
   ]
  },
  {
   "cell_type": "code",
   "execution_count": 6,
   "id": "5b85525e",
   "metadata": {},
   "outputs": [
    {
     "ename": "KeyError",
     "evalue": "1000000",
     "output_type": "error",
     "traceback": [
      "\u001b[1;31m---------------------------------------------------------------------------\u001b[0m",
      "\u001b[1;31mKeyError\u001b[0m                                  Traceback (most recent call last)",
      "Cell \u001b[1;32mIn[6], line 1\u001b[0m\n\u001b[1;32m----> 1\u001b[0m createplot(\u001b[39m'\u001b[39;49m\u001b[39m../../projects/microbenchmark/results\u001b[39;49m\u001b[39m'\u001b[39;49m)\n",
      "Cell \u001b[1;32mIn[4], line 26\u001b[0m, in \u001b[0;36mcreateplot\u001b[1;34m(directory)\u001b[0m\n\u001b[0;32m     24\u001b[0m \u001b[39mif\u001b[39;00m \u001b[39mlen\u001b[39m(results) \u001b[39m>\u001b[39m \u001b[39m0\u001b[39m:\n\u001b[0;32m     25\u001b[0m     C\u001b[39m=\u001b[39m\u001b[39m1000000\u001b[39m\n\u001b[1;32m---> 26\u001b[0m     latency_df \u001b[39m=\u001b[39m results[C]\n\u001b[0;32m     27\u001b[0m     filtered_df \u001b[39m=\u001b[39m latency_df[latency_df[\u001b[39m'\u001b[39m\u001b[39mDateTime\u001b[39m\u001b[39m'\u001b[39m] \u001b[39m>\u001b[39m\u001b[39m=\u001b[39m (latency_df[\u001b[39m'\u001b[39m\u001b[39mDateTime\u001b[39m\u001b[39m'\u001b[39m]\u001b[39m.\u001b[39mmin() \u001b[39m+\u001b[39m pd\u001b[39m.\u001b[39mTimedelta(seconds\u001b[39m=\u001b[39m\u001b[39m5\u001b[39m))]\n\u001b[0;32m     28\u001b[0m     q90 \u001b[39m=\u001b[39m np\u001b[39m.\u001b[39mpercentile(filtered_df[\u001b[39m'\u001b[39m\u001b[39mLatencyInMs\u001b[39m\u001b[39m'\u001b[39m], q\u001b[39m=\u001b[39m[\u001b[39m0.9\u001b[39m])\n",
      "\u001b[1;31mKeyError\u001b[0m: 1000000"
     ]
    },
    {
     "data": {
      "image/png": "[encoded data removed]",
      "text/plain": [
       "<Figure size 1600x600 with 12 Axes>"
      ]
     },
     "metadata": {},
     "output_type": "display_data"
    }
   ],
   "source": [
    "createplot('../../projects/microbenchmark/results')"
   ]
  },
  {
   "cell_type": "code",
   "execution_count": 15,
   "id": "12dceb52",
   "metadata": {},
   "outputs": [],
   "source": [
    "model_name='random'\n",
    "runtime = 'eager'\n",
    "device = 'cuda'\n",
    "datasource = 'bolcom'\n",
    "directory='../../projects/microbenchmark/topk_y_2023-04-21/'\n",
    "results = get_results(model_name, runtime, device, datasource, directory)"
   ]
  }
 ],
 "metadata": {
  "kernelspec": {
   "display_name": "Python 3 (ipykernel)",
   "language": "python",
   "name": "python3"
  },
  "language_info": {
   "codemirror_mode": {
    "name": "ipython",
    "version": 3
   },
   "file_extension": ".py",
   "mimetype": "text/x-python",
   "name": "python",
   "nbconvert_exporter": "python",
   "pygments_lexer": "ipython3",
   "version": "3.9.16"
  }
 },
 "nbformat": 4,
 "nbformat_minor": 5
}
