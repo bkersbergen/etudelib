{
 "cells": [
  {
   "cell_type": "code",
   "execution_count": 1,
   "id": "0ef55431",
   "metadata": {},
   "outputs": [],
   "source": [
    "import numpy as np\n",
    "import math\n",
    "import scipy.stats as st\n",
    "from scipy.stats._continuous_distns import _distn_names\n",
    "import pandas as pd"
   ]
  },
  {
   "cell_type": "code",
   "execution_count": 2,
   "id": "2406d553",
   "metadata": {},
   "outputs": [],
   "source": [
    "df = pd.read_csv('../../projects/data/bolcom-clicks-35m_test.txt', sep='\\t')\n",
    "df\n",
    "\n",
    "rng = np.random.default_rng()\n",
    "\n",
    "distribution_name = 'powerlaw'\n",
    "distribution = getattr(st, distribution_name)"
   ]
  },
  {
   "cell_type": "code",
   "execution_count": 3,
   "id": "2a701c0d",
   "metadata": {},
   "outputs": [
    {
     "data": {
      "text/plain": [
       "(0.07004263982467046, 1.9999999999999998, 277.00000000000006)"
      ]
     },
     "execution_count": 3,
     "metadata": {},
     "output_type": "execute_result"
    }
   ],
   "source": [
    "# Observed frequencies to observed probability\n",
    "f_obs = df.groupby('SessionId').size().to_numpy()\n",
    "f_obs = np.sort(f_obs)\n",
    "f_obs\n",
    "\n",
    "# Fit a distribution to a frequency\n",
    "s_fit_params = distribution.fit(f_obs)\n",
    "s_fit_params\n"
   ]
  },
  {
   "cell_type": "code",
   "execution_count": 4,
   "id": "88cac181",
   "metadata": {},
   "outputs": [
    {
     "data": {
      "text/plain": [
       "(0.040690006010909816, 0.9999999999999999, 2335.0000000000005)"
      ]
     },
     "execution_count": 4,
     "metadata": {},
     "output_type": "execute_result"
    }
   ],
   "source": [
    "# Observed frequencies to observed probability\n",
    "f_obs = df.groupby('ItemId').size().to_numpy()\n",
    "f_obs = np.sort(f_obs)\n",
    "f_obs\n",
    "\n",
    "# Fit a distribution to a frequency\n",
    "i_fit_params = distribution.fit(f_obs)\n",
    "i_fit_params\n"
   ]
  },
  {
   "cell_type": "code",
   "execution_count": 5,
   "id": "b339b64a",
   "metadata": {},
   "outputs": [
    {
     "data": {
      "text/plain": [
       "array([   2, 1465,    2, ...,    2,    2,    2])"
      ]
     },
     "execution_count": 5,
     "metadata": {},
     "output_type": "execute_result"
    }
   ],
   "source": [
    "C = 50_000_000\n",
    "f_new = distribution.rvs(*i_fit_params, size=C)\n",
    "f_new = np.ceil(f_new).astype(int)\n",
    "f_new"
   ]
  },
  {
   "cell_type": "code",
   "execution_count": 6,
   "id": "e117c0ca",
   "metadata": {},
   "outputs": [],
   "source": [
    "p_obs = f_new / np.sum(f_new)\n",
    "n_samples = 350_000\n",
    "random_items = rng.choice(len(p_obs), \n",
    "                          size=n_samples,\n",
    "                          replace=True,\n",
    "                          p = p_obs)"
   ]
  },
  {
   "cell_type": "code",
   "execution_count": 7,
   "id": "349ca621",
   "metadata": {},
   "outputs": [
    {
     "data": {
      "text/plain": [
       "array([19672525,  2322118, 43495944, ..., 39570012, 19711890,  3178167])"
      ]
     },
     "execution_count": 7,
     "metadata": {},
     "output_type": "execute_result"
    }
   ],
   "source": [
    "random_items"
   ]
  },
  {
   "cell_type": "code",
   "execution_count": null,
   "id": "3e1b7ece",
   "metadata": {},
   "outputs": [],
   "source": []
  },
  {
   "cell_type": "code",
   "execution_count": null,
   "id": "6732392b",
   "metadata": {},
   "outputs": [],
   "source": []
  },
  {
   "cell_type": "code",
   "execution_count": null,
   "id": "dac0e19a",
   "metadata": {},
   "outputs": [],
   "source": []
  },
  {
   "cell_type": "code",
   "execution_count": null,
   "id": "10c90c4a",
   "metadata": {},
   "outputs": [],
   "source": []
  },
  {
   "cell_type": "code",
   "execution_count": null,
   "id": "da7e4fc0",
   "metadata": {},
   "outputs": [],
   "source": []
  },
  {
   "cell_type": "code",
   "execution_count": null,
   "id": "e894cf46",
   "metadata": {},
   "outputs": [],
   "source": []
  },
  {
   "cell_type": "code",
   "execution_count": null,
   "id": "d1b7b294",
   "metadata": {},
   "outputs": [],
   "source": []
  },
  {
   "cell_type": "code",
   "execution_count": null,
   "id": "51947e4e",
   "metadata": {},
   "outputs": [],
   "source": []
  },
  {
   "cell_type": "code",
   "execution_count": null,
   "id": "74675f76",
   "metadata": {},
   "outputs": [],
   "source": []
  },
  {
   "cell_type": "code",
   "execution_count": null,
   "id": "e6b2f154",
   "metadata": {},
   "outputs": [],
   "source": []
  },
  {
   "cell_type": "code",
   "execution_count": null,
   "id": "4b25e8a5",
   "metadata": {},
   "outputs": [],
   "source": []
  }
 ],
 "metadata": {
  "kernelspec": {
   "display_name": "Python 3 (ipykernel)",
   "language": "python",
   "name": "python3"
  },
  "language_info": {
   "codemirror_mode": {
    "name": "ipython",
    "version": 3
   },
   "file_extension": ".py",
   "mimetype": "text/x-python",
   "name": "python",
   "nbconvert_exporter": "python",
   "pygments_lexer": "ipython3",
   "version": "3.9.6"
  }
 },
 "nbformat": 4,
 "nbformat_minor": 5
}
