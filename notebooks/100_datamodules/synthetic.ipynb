{
 "cells": [
  {
   "cell_type": "code",
   "execution_count": 51,
   "id": "0ef55431",
   "metadata": {},
   "outputs": [],
   "source": [
    "import torch\n",
    "import torch.nn.functional as fn\n",
    "import numpy as np"
   ]
  },
  {
   "cell_type": "code",
   "execution_count": 52,
   "id": "2406d553",
   "metadata": {},
   "outputs": [
    {
     "ename": "TypeError",
     "evalue": "empty(): argument 'size' must be tuple of SymInts, but found element of type tuple at pos 3",
     "output_type": "error",
     "traceback": [
      "\u001b[0;31m---------------------------------------------------------------------------\u001b[0m",
      "\u001b[0;31mTypeError\u001b[0m                                 Traceback (most recent call last)",
      "Cell \u001b[0;32mIn[52], line 5\u001b[0m\n\u001b[1;32m      3\u001b[0m max_session_length\u001b[38;5;241m=\u001b[39m\u001b[38;5;241m43\u001b[39m\n\u001b[1;32m      4\u001b[0m batch_size\u001b[38;5;241m=\u001b[39m\u001b[38;5;241m2\u001b[39m\n\u001b[0;32m----> 5\u001b[0m \u001b[43mtorch\u001b[49m\u001b[38;5;241;43m.\u001b[39;49m\u001b[43mempty\u001b[49m\u001b[43m(\u001b[49m\u001b[43mmin_item_id\u001b[49m\u001b[43m,\u001b[49m\u001b[43m \u001b[49m\u001b[43mmax_item_id\u001b[49m\u001b[43m,\u001b[49m\u001b[43m \u001b[49m\u001b[43m(\u001b[49m\u001b[43mbatch_size\u001b[49m\u001b[43m,\u001b[49m\u001b[43m \u001b[49m\u001b[43mmax_session_length\u001b[49m\u001b[43m)\u001b[49m\u001b[43m)\u001b[49m\n",
      "\u001b[0;31mTypeError\u001b[0m: empty(): argument 'size' must be tuple of SymInts, but found element of type tuple at pos 3"
     ]
    }
   ],
   "source": [
    "min_item_id=0\n",
    "max_item_id=10_000\n",
    "max_session_length=43\n",
    "batch_size=2\n",
    "torch.empty(min_item_id, max_item_id, (batch_size, max_session_length))"
   ]
  },
  {
   "cell_type": "code",
   "execution_count": 23,
   "id": "2a701c0d",
   "metadata": {},
   "outputs": [],
   "source": [
    "batch_size=2\n",
    "max_session_length=43\n",
    "mask = torch.empty(batch_size, max_session_length)"
   ]
  },
  {
   "cell_type": "code",
   "execution_count": null,
   "id": "88cac181",
   "metadata": {},
   "outputs": [],
   "source": []
  },
  {
   "cell_type": "code",
   "execution_count": null,
   "id": "b339b64a",
   "metadata": {},
   "outputs": [],
   "source": []
  },
  {
   "cell_type": "code",
   "execution_count": 24,
   "id": "e117c0ca",
   "metadata": {},
   "outputs": [
    {
     "data": {
      "text/plain": [
       "tensor([[0., 0., 0., 0., 0., 0., 0., 0., 0., 0., 0., 0., 0., 0., 0., 0., 0., 0., 0., 0., 0., 0., 0., 0.,\n",
       "         0., 0., 0., 0., 0., 0., 0., 0., 0., 0., 0., 0., 0., 0., 0., 0., 0., 0., 0.],\n",
       "        [0., 0., 0., 0., 0., 0., 0., 0., 0., 0., 0., 0., 0., 0., 0., 0., 0., 0., 0., 0., 0., 0., 0., 0.,\n",
       "         0., 0., 0., 0., 0., 0., 0., 0., 0., 0., 0., 0., 0., 0., 0., 0., 0., 0., 0.]])"
      ]
     },
     "execution_count": 24,
     "metadata": {},
     "output_type": "execute_result"
    }
   ],
   "source": [
    "mask"
   ]
  },
  {
   "cell_type": "code",
   "execution_count": 37,
   "id": "349ca621",
   "metadata": {},
   "outputs": [
    {
     "name": "stdout",
     "output_type": "stream",
     "text": [
      "tensor([[ 837, 4598, 1324, 8390, 8858,  631, 1229, 9958, 9449, 7593, 8834, 1217,\n",
      "         1978, 8684, 2381, 6351, 1199, 2637,  427, 2147, 6605, 5571, 9489, 7782,\n",
      "         8752, 3776, 9003,  519, 5336, 3821, 3586, 6803, 2594, 8675, 6688, 9987,\n",
      "         2410, 3674, 1008, 5492, 3373, 3144, 1520],\n",
      "        [ 119, 5668, 4119, 3690, 9523,  527, 2163, 9602, 1637, 4707, 2479, 3134,\n",
      "         7552, 8736, 1954, 5516, 5344, 5987, 2665, 2273, 9009, 7840, 7602, 2132,\n",
      "         1100, 4191, 8855,  822, 2189, 4485,  185, 9385, 3053, 1962, 7280, 2040,\n",
      "         9653, 5352, 2261, 6545, 2029, 8899, 6643]])\n",
      "tensor([[   0,  837, 4598, 1324, 8390, 8858,  631, 1229, 9958, 9449, 7593, 8834,\n",
      "         1217, 1978, 8684, 2381, 6351, 1199, 2637,  427, 2147, 6605, 5571, 9489,\n",
      "         7782, 8752, 3776, 9003,  519, 5336, 3821, 3586, 6803, 2594, 8675, 6688,\n",
      "         9987, 2410, 3674, 1008, 5492, 3373, 3144, 1520],\n",
      "        [   0,  119, 5668, 4119, 3690, 9523,  527, 2163, 9602, 1637, 4707, 2479,\n",
      "         3134, 7552, 8736, 1954, 5516, 5344, 5987, 2665, 2273, 9009, 7840, 7602,\n",
      "         2132, 1100, 4191, 8855,  822, 2189, 4485,  185, 9385, 3053, 1962, 7280,\n",
      "         2040, 9653, 5352, 2261, 6545, 2029, 8899, 6643]])\n"
     ]
    }
   ],
   "source": [
    "items = torch.randint(0, max_item_id, (batch_size, max_session_length))\n",
    "print(items)\n",
    "items = fn.pad(items, (1, 0))\n",
    "print(items)"
   ]
  },
  {
   "cell_type": "code",
   "execution_count": 30,
   "id": "3e1b7ece",
   "metadata": {},
   "outputs": [
    {
     "data": {
      "text/plain": [
       "tensor([[0, 0, 0, 0, 0, 1, 0, 1, 1, 1, 1, 0, 1, 0, 0, 0, 0, 1, 0, 1, 0, 1, 0, 0,\n",
       "         0, 0, 0, 0, 0, 1, 0, 0, 1, 1, 0, 1, 0, 1, 0, 0, 0, 0, 0],\n",
       "        [1, 0, 1, 0, 1, 1, 1, 1, 1, 0, 1, 0, 0, 1, 1, 0, 0, 0, 0, 1, 1, 1, 0, 1,\n",
       "         1, 1, 0, 1, 0, 1, 0, 1, 0, 0, 1, 0, 1, 1, 0, 1, 1, 1, 0]])"
      ]
     },
     "execution_count": 30,
     "metadata": {},
     "output_type": "execute_result"
    }
   ],
   "source": [
    "items"
   ]
  },
  {
   "cell_type": "code",
   "execution_count": 40,
   "id": "6732392b",
   "metadata": {},
   "outputs": [
    {
     "data": {
      "text/plain": [
       "tensor([[   0,  837, 4598, 1324, 8390, 8858,  631, 1229, 9958, 9449, 7593, 8834,\n",
       "         1217, 1978, 8684, 2381, 6351, 1199, 2637,  427, 2147, 6605, 5571, 9489,\n",
       "         7782, 8752, 3776, 9003,  519, 5336, 3821, 3586, 6803, 2594, 8675, 6688,\n",
       "         9987, 2410, 3674, 1008, 5492, 3373, 3144, 1520,    0,    0,    0,    0,\n",
       "            0],\n",
       "        [   0,  119, 5668, 4119, 3690, 9523,  527, 2163, 9602, 1637, 4707, 2479,\n",
       "         3134, 7552, 8736, 1954, 5516, 5344, 5987, 2665, 2273, 9009, 7840, 7602,\n",
       "         2132, 1100, 4191, 8855,  822, 2189, 4485,  185, 9385, 3053, 1962, 7280,\n",
       "         2040, 9653, 5352, 2261, 6545, 2029, 8899, 6643,    0,    0,    0,    0,\n",
       "            0]])"
      ]
     },
     "execution_count": 40,
     "metadata": {},
     "output_type": "execute_result"
    }
   ],
   "source": [
    "fn.pad(items, (0, 5))"
   ]
  },
  {
   "cell_type": "code",
   "execution_count": 160,
   "id": "dac0e19a",
   "metadata": {},
   "outputs": [],
   "source": [
    "item_seq_lengths = np.zeros(batch_size, dtype=int)\n",
    "item_seqs = np.zeros((batch_size, max_session_length), dtype=int)"
   ]
  },
  {
   "cell_type": "code",
   "execution_count": 161,
   "id": "10c90c4a",
   "metadata": {},
   "outputs": [
    {
     "data": {
      "text/plain": [
       "array([0, 0])"
      ]
     },
     "execution_count": 161,
     "metadata": {},
     "output_type": "execute_result"
    }
   ],
   "source": [
    "item_seq_lengths"
   ]
  },
  {
   "cell_type": "code",
   "execution_count": 162,
   "id": "da7e4fc0",
   "metadata": {},
   "outputs": [],
   "source": [
    "for idx in range(batch_size):\n",
    "    session_length = np.random.randint(1, max_session_length + 1)\n",
    "    item_seq = np.random.randint(0, max_item_id + 1, session_length) \n",
    "    item_seq.resize(max_session_length, refcheck=False)\n",
    "    item_seqs[idx] = item_seq\n",
    "    item_seq_lengths[idx] = session_length\n"
   ]
  },
  {
   "cell_type": "code",
   "execution_count": 163,
   "id": "e894cf46",
   "metadata": {},
   "outputs": [
    {
     "name": "stdout",
     "output_type": "stream",
     "text": [
      "tensor([20, 17])\n",
      "tensor([[7703, 1335, 5095, 7942, 1156, 6938, 3842, 1168, 2691, 9394, 7012,   16,\n",
      "         3460, 6371, 2717, 5316, 3316, 4821, 9705, 7879,    0,    0,    0,    0,\n",
      "            0,    0,    0,    0,    0,    0,    0,    0,    0,    0,    0,    0,\n",
      "            0,    0,    0,    0,    0,    0,    0],\n",
      "        [1160, 5893,  496, 3549, 2694, 7428, 4567, 4739, 1956, 3511, 9451, 9911,\n",
      "          990, 4356, 6947, 8591, 8988,    0,    0,    0,    0,    0,    0,    0,\n",
      "            0,    0,    0,    0,    0,    0,    0,    0,    0,    0,    0,    0,\n",
      "            0,    0,    0,    0,    0,    0,    0]])\n"
     ]
    }
   ],
   "source": [
    "print(torch.as_tensor(item_seq_lengths))\n",
    "print(torch.as_tensor(item_seqs))"
   ]
  },
  {
   "cell_type": "code",
   "execution_count": null,
   "id": "d1b7b294",
   "metadata": {},
   "outputs": [],
   "source": []
  },
  {
   "cell_type": "code",
   "execution_count": null,
   "id": "51947e4e",
   "metadata": {},
   "outputs": [],
   "source": []
  },
  {
   "cell_type": "code",
   "execution_count": null,
   "id": "74675f76",
   "metadata": {},
   "outputs": [],
   "source": []
  },
  {
   "cell_type": "code",
   "execution_count": null,
   "id": "e6b2f154",
   "metadata": {},
   "outputs": [],
   "source": []
  },
  {
   "cell_type": "code",
   "execution_count": null,
   "id": "4b25e8a5",
   "metadata": {},
   "outputs": [],
   "source": []
  }
 ],
 "metadata": {
  "kernelspec": {
   "display_name": "Python 3 (ipykernel)",
   "language": "python",
   "name": "python3"
  },
  "language_info": {
   "codemirror_mode": {
    "name": "ipython",
    "version": 3
   },
   "file_extension": ".py",
   "mimetype": "text/x-python",
   "name": "python",
   "nbconvert_exporter": "python",
   "pygments_lexer": "ipython3",
   "version": "3.9.6"
  }
 },
 "nbformat": 4,
 "nbformat_minor": 5
}
