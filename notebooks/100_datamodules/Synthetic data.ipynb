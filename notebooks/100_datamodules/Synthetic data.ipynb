{
 "cells": [
  {
   "cell_type": "code",
   "execution_count": 41,
   "id": "5abde720",
   "metadata": {},
   "outputs": [],
   "source": [
    "import numpy as np\n",
    "import math\n",
    "import matplotlib.pyplot as plt\n",
    "import scipy.stats as st\n",
    "from scipy.stats._continuous_distns import _distn_names\n",
    "import pandas as pd"
   ]
  },
  {
   "cell_type": "code",
   "execution_count": 42,
   "id": "f7395231",
   "metadata": {},
   "outputs": [],
   "source": [
    "df = pd.read_csv('../../projects/data/bolcom-clicks-35m_test.txt', sep='\\t')\n",
    "df\n",
    "\n",
    "distribution_name = 'powerlaw'\n",
    "distribution = getattr(st, distribution_name)"
   ]
  },
  {
   "cell_type": "code",
   "execution_count": 43,
   "id": "0e8e4407",
   "metadata": {},
   "outputs": [
    {
     "data": {
      "text/plain": [
       "(0.07004263982467046, 1.9999999999999998, 277.00000000000006)"
      ]
     },
     "execution_count": 43,
     "metadata": {},
     "output_type": "execute_result"
    }
   ],
   "source": [
    "# Observed frequencies to observed probability\n",
    "f_obs = df.groupby('SessionId').size().to_numpy()\n",
    "f_obs = np.sort(f_obs)\n",
    "f_obs\n",
    "\n",
    "# Fit a distribution to a frequency\n",
    "s_fit_params = distribution.fit(f_obs)\n",
    "s_fit_params\n"
   ]
  },
  {
   "cell_type": "code",
   "execution_count": 44,
   "id": "e298b2bd",
   "metadata": {},
   "outputs": [
    {
     "data": {
      "text/plain": [
       "(0.040690006010909816, 0.9999999999999999, 2335.0000000000005)"
      ]
     },
     "execution_count": 44,
     "metadata": {},
     "output_type": "execute_result"
    }
   ],
   "source": [
    "# Observed frequencies to observed probability\n",
    "f_obs = df.groupby('ItemId').size().to_numpy()\n",
    "f_obs = np.sort(f_obs)\n",
    "f_obs\n",
    "\n",
    "# Fit a distribution to a frequency\n",
    "i_fit_params = distribution.fit(f_obs)\n",
    "i_fit_params\n"
   ]
  },
  {
   "cell_type": "code",
   "execution_count": 53,
   "id": "a81b717d",
   "metadata": {},
   "outputs": [
    {
     "name": "stdout",
     "output_type": "stream",
     "text": [
      "50000000\n"
     ]
    },
    {
     "data": {
      "text/plain": [
       "array([3, 2, 2, ..., 2, 1, 2])"
      ]
     },
     "execution_count": 53,
     "metadata": {},
     "output_type": "execute_result"
    }
   ],
   "source": [
    "C = 50_000_000\n",
    "f_new = distribution.rvs(*i_fit_params, size=C)\n",
    "f_new = np.ceil(f_new).astype(int)\n",
    "# f_new = np.sort(f_new)\n",
    "print(len(f_new))\n",
    "f_new"
   ]
  },
  {
   "cell_type": "code",
   "execution_count": 54,
   "id": "bdfb3d29",
   "metadata": {},
   "outputs": [],
   "source": [
    "p_obs = f_new / np.sum(f_new)\n",
    "n_samples = 350_000\n",
    "random_items = rng.choice(len(p_obs), \n",
    "                          size=n_samples,\n",
    "                          replace=True,\n",
    "                          p = p_obs)"
   ]
  },
  {
   "cell_type": "code",
   "execution_count": 55,
   "id": "6ea08690",
   "metadata": {},
   "outputs": [
    {
     "data": {
      "text/plain": [
       "array([10149814,  2526255, 49504432, ..., 41912603, 18218525,  2350978])"
      ]
     },
     "execution_count": 55,
     "metadata": {},
     "output_type": "execute_result"
    }
   ],
   "source": [
    "random_items"
   ]
  },
  {
   "cell_type": "code",
   "execution_count": null,
   "id": "8d9a7e14",
   "metadata": {},
   "outputs": [],
   "source": []
  },
  {
   "cell_type": "code",
   "execution_count": null,
   "id": "a658f128",
   "metadata": {},
   "outputs": [],
   "source": []
  }
 ],
 "metadata": {
  "kernelspec": {
   "display_name": "Python 3 (ipykernel)",
   "language": "python",
   "name": "python3"
  },
  "language_info": {
   "codemirror_mode": {
    "name": "ipython",
    "version": 3
   },
   "file_extension": ".py",
   "mimetype": "text/x-python",
   "name": "python",
   "nbconvert_exporter": "python",
   "pygments_lexer": "ipython3",
   "version": "3.9.6"
  }
 },
 "nbformat": 4,
 "nbformat_minor": 5
}
