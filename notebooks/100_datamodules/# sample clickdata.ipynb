{
 "cells": [
  {
   "cell_type": "code",
   "execution_count": 1,
   "id": "6ad9a429",
   "metadata": {},
   "outputs": [],
   "source": [
    "from google.cloud import bigquery\n",
    "import google.auth\n",
    "from google_auth_oauthlib import flow\n",
    "import numpy as np\n",
    "import pandas as pd\n",
    "from sklearn.base import BaseEstimator, TransformerMixin\n",
    "from sklearn.pipeline import Pipeline\n",
    "import seaborn as sns\n",
    "import matplotlib.pyplot as plt\n",
    "import re\n",
    "from datetime import date, timedelta\n",
    "import os"
   ]
  },
  {
   "cell_type": "code",
   "execution_count": 2,
   "id": "9945b158",
   "metadata": {},
   "outputs": [
    {
     "data": {
      "text/html": [
       "<style>.container { width:100% !important; }</style>"
      ],
      "text/plain": [
       "<IPython.core.display.HTML object>"
      ]
     },
     "metadata": {},
     "output_type": "display_data"
    }
   ],
   "source": [
    "from IPython.display import display, HTML\n",
    "display(HTML(\"<style>.container { width:100% !important; }</style>\"))\n",
    "pd.set_option(\"display.max_columns\", None)"
   ]
  },
  {
   "cell_type": "code",
   "execution_count": 3,
   "id": "9e35d59a",
   "metadata": {},
   "outputs": [
    {
     "name": "stderr",
     "output_type": "stream",
     "text": [
      "/Users/bkersbergen/phd/etudelib/venv/lib/python3.9/site-packages/google/auth/_default.py:83: UserWarning: Your application has authenticated using end user credentials from Google Cloud SDK without a quota project. You might receive a \"quota exceeded\" or \"API not enabled\" error. We recommend you rerun `gcloud auth application-default login` and make sure a quota project is added. Or you can use service accounts instead. For more information about service accounts, see https://cloud.google.com/docs/authentication/\n",
      "  warnings.warn(_CLOUD_SDK_CREDENTIALS_WARNING)\n"
     ]
    }
   ],
   "source": [
    "# the project that will pay for the queries\n",
    "project_id='bolcom-pro-reco-analytics-fcc'\n",
    "client = bigquery.Client(project_id)"
   ]
  },
  {
   "cell_type": "code",
   "execution_count": 17,
   "id": "1d153d10",
   "metadata": {},
   "outputs": [],
   "source": [
    "def get_clicks(date_str):\n",
    "    query = \"\"\"\n",
    "    with fct_sample as (\n",
    "    SELECT\n",
    "*\n",
    "FROM\n",
    "  `bolcom-pro-m2data-d35.views_analytical.measurements_analytical`\n",
    "WHERE\n",
    "  dateAmsterdam = \"{date}\"\n",
    "  AND timeAmsterdam BETWEEN '20:00:00.000000' AND '21:00:00.000000'\n",
    "    ),\n",
    "    fct as (\n",
    "select \n",
    "pii.session.sessionId as session_id,\n",
    "REGEXP_EXTRACT(transport.pull.request.resource, '.*/p/[^/]+/(\\\\\\d+).*') AS item_id,\n",
    "UNIX_MILLIS(timestamp) as epoch_ms,\n",
    "from `fct_sample`\n",
    "where \n",
    "    event.container.details.page.name = \"PDP\"\n",
    "    and event.container.details.containerType = 'PAGE'\n",
    "    AND event.eventTargetType = 'CONTAINER'\n",
    "    and event.container.event = 'RENDER'\n",
    "    order by timestamp ASC\n",
    "),\n",
    "min_timestamp as (\n",
    "    select \n",
    "    MIN(epoch_ms) as min_timestamp\n",
    "    from `fct`    \n",
    "),\n",
    "session_map AS (\n",
    "    SELECT \n",
    "        ROW_NUMBER() OVER() AS session_idx,\n",
    "        session_id,\n",
    "     FROM `fct`\n",
    "     group by session_id\n",
    "  ), \n",
    "item_map AS (\n",
    "    SELECT \n",
    "        ROW_NUMBER() OVER() AS item_idx,\n",
    "        item_id,\n",
    "     FROM `fct`\n",
    "     group by item_id\n",
    "  )\n",
    "SELECT \n",
    "  session_idx AS session_id,\n",
    "  item_idx AS item_id,\n",
    "  epoch_ms - min_timestamp.min_timestamp as epoch_ms\n",
    "FROM \n",
    "  `fct`\n",
    "JOIN \n",
    "  session_map ON `fct`.session_id = session_map.session_id\n",
    "JOIN \n",
    "  item_map ON `fct`.item_id = item_map.item_id\n",
    "CROSS JOIN \n",
    "  min_timestamp\n",
    "\n",
    "      \"\"\".replace('{date}', str(date_str))\n",
    "    df = client.query(query).to_dataframe()\n",
    "    return df"
   ]
  },
  {
   "cell_type": "code",
   "execution_count": 18,
   "id": "291d9bab",
   "metadata": {},
   "outputs": [],
   "source": [
    "the_date = date.today() - timedelta(days=1)\n",
    "df = get_clicks(the_date)"
   ]
  },
  {
   "cell_type": "code",
   "execution_count": 19,
   "id": "554984a6",
   "metadata": {},
   "outputs": [],
   "source": [
    "df.to_csv('load.csv', index=False)"
   ]
  },
  {
   "cell_type": "code",
   "execution_count": null,
   "id": "1e5d3cb7",
   "metadata": {},
   "outputs": [],
   "source": []
  }
 ],
 "metadata": {
  "kernelspec": {
   "display_name": "Python 3 (ipykernel)",
   "language": "python",
   "name": "python3"
  },
  "language_info": {
   "codemirror_mode": {
    "name": "ipython",
    "version": 3
   },
   "file_extension": ".py",
   "mimetype": "text/x-python",
   "name": "python",
   "nbconvert_exporter": "python",
   "pygments_lexer": "ipython3",
   "version": "3.9.6"
  }
 },
 "nbformat": 4,
 "nbformat_minor": 5
}
