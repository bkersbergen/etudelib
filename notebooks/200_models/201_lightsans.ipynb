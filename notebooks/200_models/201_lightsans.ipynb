{
 "cells": [
  {
   "cell_type": "code",
   "execution_count": 1,
   "id": "06519d3e",
   "metadata": {},
   "outputs": [],
   "source": [
    "from pytorch_lightning import Trainer\n",
    "from pytorch_lightning.callbacks.progress import TQDMProgressBar\n",
    "from torch.utils.data import DataLoader\n",
    "\n",
    "from etudelib.data.synthetic.synthetic import SyntheticDataset\n",
    "from etudelib.models.lightsans.lightning_model import LightSANs\n",
    "from etudelib.models.lightsans.torch_model import LightSANsModel"
   ]
  },
  {
   "cell_type": "code",
   "execution_count": 2,
   "id": "fcc876f0",
   "metadata": {},
   "outputs": [],
   "source": [
    "qty_interactions = 10000\n",
    "n_items = 5000\n",
    "max_seq_length = 43\n",
    "qty_sessions = qty_interactions\n",
    "batch_size = 32"
   ]
  },
  {
   "cell_type": "code",
   "execution_count": 3,
   "id": "2d2d5674",
   "metadata": {},
   "outputs": [],
   "source": [
    "train_ds = SyntheticDataset(qty_interactions=qty_interactions,\n",
    "                                qty_sessions=qty_sessions,\n",
    "                                n_items=n_items,\n",
    "                                max_seq_length=max_seq_length)\n",
    "train_loader = DataLoader(train_ds, batch_size=batch_size, shuffle=True)\n"
   ]
  },
  {
   "cell_type": "code",
   "execution_count": 4,
   "id": "f8563114",
   "metadata": {},
   "outputs": [],
   "source": [
    "backbone = LightSANsModel(n_layers=2,\n",
    "                              n_heads=2,\n",
    "                              k_interests=15,\n",
    "                              hidden_size=64,\n",
    "                              inner_size=256,\n",
    "                              hidden_dropout_prob=0.5,\n",
    "                              attn_dropout_prob=0.5,\n",
    "                              hidden_act=\"gelu\",\n",
    "                              layer_norm_eps=1e-12,\n",
    "                              initializer_range=0.02,\n",
    "                              max_seq_length=max_seq_length,\n",
    "                              n_items=n_items,\n",
    "                              topk=21,\n",
    "                              )"
   ]
  },
  {
   "cell_type": "code",
   "execution_count": 5,
   "id": "23f7551f",
   "metadata": {},
   "outputs": [
    {
     "name": "stdout",
     "output_type": "stream",
     "text": [
      "LightSANs(\n",
      "  (backbone): LightSANsModel(\n",
      "    (item_embedding): Embedding(5000, 64, padding_idx=0)\n",
      "    (position_embedding): Embedding(43, 64)\n",
      "    (trm_encoder): LightTransformerEncoder(\n",
      "      (layer): ModuleList(\n",
      "        (0): LightTransformerLayer(\n",
      "          (multi_head_attention): LightMultiHeadAttention(\n",
      "            (query): Linear(in_features=64, out_features=64, bias=True)\n",
      "            (key): Linear(in_features=64, out_features=64, bias=True)\n",
      "            (value): Linear(in_features=64, out_features=64, bias=True)\n",
      "            (attpooling_key): ItemToInterestAggregation()\n",
      "            (attpooling_value): ItemToInterestAggregation()\n",
      "            (pos_q_linear): Linear(in_features=64, out_features=64, bias=True)\n",
      "            (pos_k_linear): Linear(in_features=64, out_features=64, bias=True)\n",
      "            (pos_ln): LayerNorm((64,), eps=1e-12, elementwise_affine=True)\n",
      "            (attn_dropout): Dropout(p=0.5, inplace=False)\n",
      "            (dense): Linear(in_features=64, out_features=64, bias=True)\n",
      "            (LayerNorm): LayerNorm((64,), eps=1e-12, elementwise_affine=True)\n",
      "            (out_dropout): Dropout(p=0.5, inplace=False)\n",
      "          )\n",
      "          (feed_forward): FeedForward(\n",
      "            (dense_1): Linear(in_features=64, out_features=256, bias=True)\n",
      "            (dense_2): Linear(in_features=256, out_features=64, bias=True)\n",
      "            (LayerNorm): LayerNorm((64,), eps=1e-12, elementwise_affine=True)\n",
      "            (dropout): Dropout(p=0.5, inplace=False)\n",
      "          )\n",
      "        )\n",
      "        (1): LightTransformerLayer(\n",
      "          (multi_head_attention): LightMultiHeadAttention(\n",
      "            (query): Linear(in_features=64, out_features=64, bias=True)\n",
      "            (key): Linear(in_features=64, out_features=64, bias=True)\n",
      "            (value): Linear(in_features=64, out_features=64, bias=True)\n",
      "            (attpooling_key): ItemToInterestAggregation()\n",
      "            (attpooling_value): ItemToInterestAggregation()\n",
      "            (pos_q_linear): Linear(in_features=64, out_features=64, bias=True)\n",
      "            (pos_k_linear): Linear(in_features=64, out_features=64, bias=True)\n",
      "            (pos_ln): LayerNorm((64,), eps=1e-12, elementwise_affine=True)\n",
      "            (attn_dropout): Dropout(p=0.5, inplace=False)\n",
      "            (dense): Linear(in_features=64, out_features=64, bias=True)\n",
      "            (LayerNorm): LayerNorm((64,), eps=1e-12, elementwise_affine=True)\n",
      "            (out_dropout): Dropout(p=0.5, inplace=False)\n",
      "          )\n",
      "          (feed_forward): FeedForward(\n",
      "            (dense_1): Linear(in_features=64, out_features=256, bias=True)\n",
      "            (dense_2): Linear(in_features=256, out_features=64, bias=True)\n",
      "            (LayerNorm): LayerNorm((64,), eps=1e-12, elementwise_affine=True)\n",
      "            (dropout): Dropout(p=0.5, inplace=False)\n",
      "          )\n",
      "        )\n",
      "      )\n",
      "    )\n",
      "    (LayerNorm): LayerNorm((64,), eps=1e-12, elementwise_affine=True)\n",
      "    (dropout): Dropout(p=0.5, inplace=False)\n",
      "  )\n",
      ")\n"
     ]
    }
   ],
   "source": [
    "model = LightSANs(backbone)\n",
    "print(model)"
   ]
  },
  {
   "cell_type": "code",
   "execution_count": 6,
   "id": "4651f24d",
   "metadata": {},
   "outputs": [
    {
     "name": "stderr",
     "output_type": "stream",
     "text": [
      "GPU available: False, used: False\n",
      "TPU available: False, using: 0 TPU cores\n",
      "IPU available: False, using: 0 IPUs\n",
      "HPU available: False, using: 0 HPUs\n"
     ]
    }
   ],
   "source": [
    "trainer = Trainer(\n",
    "        accelerator=\"auto\",\n",
    "        devices=None,\n",
    "        max_epochs=3,\n",
    "        callbacks=[TQDMProgressBar()],\n",
    "    )"
   ]
  },
  {
   "cell_type": "code",
   "execution_count": 7,
   "id": "d47711fb",
   "metadata": {},
   "outputs": [
    {
     "name": "stderr",
     "output_type": "stream",
     "text": [
      "/Users/bkersbergen/phd/etudelib/venv/lib/python3.9/site-packages/pytorch_lightning/trainer/configuration_validator.py:133: UserWarning: You defined a `validation_step` but have no `val_dataloader`. Skipping val loop.\n",
      "  rank_zero_warn(\"You defined a `validation_step` but have no `val_dataloader`. Skipping val loop.\")\n",
      "\n",
      "  | Name     | Type           | Params\n",
      "--------------------------------------------\n",
      "0 | backbone | LightSANsModel | 443 K \n",
      "--------------------------------------------\n",
      "443 K     Trainable params\n",
      "0         Non-trainable params\n",
      "443 K     Total params\n",
      "1.774     Total estimated model params size (MB)\n",
      "/Users/bkersbergen/phd/etudelib/venv/lib/python3.9/site-packages/pytorch_lightning/trainer/connectors/data_connector.py:240: PossibleUserWarning: The dataloader, train_dataloader, does not have many workers which may be a bottleneck. Consider increasing the value of the `num_workers` argument` (try 10 which is the number of cpus on this machine) in the `DataLoader` init to improve performance.\n",
      "  rank_zero_warn(\n"
     ]
    },
    {
     "data": {
      "application/vnd.jupyter.widget-view+json": {
       "model_id": "2bb8f57d76a2447c9252d630a15703ac",
       "version_major": 2,
       "version_minor": 0
      },
      "text/plain": [
       "Training: 0it [00:00, ?it/s]"
      ]
     },
     "metadata": {},
     "output_type": "display_data"
    }
   ],
   "source": [
    "trainer.fit(model, train_loader)"
   ]
  },
  {
   "cell_type": "code",
   "execution_count": null,
   "id": "095f35e4",
   "metadata": {},
   "outputs": [],
   "source": []
  }
 ],
 "metadata": {
  "kernelspec": {
   "display_name": "Python 3 (ipykernel)",
   "language": "python",
   "name": "python3"
  },
  "language_info": {
   "codemirror_mode": {
    "name": "ipython",
    "version": 3
   },
   "file_extension": ".py",
   "mimetype": "text/x-python",
   "name": "python",
   "nbconvert_exporter": "python",
   "pygments_lexer": "ipython3",
   "version": "3.9.6"
  }
 },
 "nbformat": 4,
 "nbformat_minor": 5
}
