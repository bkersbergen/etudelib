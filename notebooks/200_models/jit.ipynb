{
 "cells": [
  {
   "cell_type": "code",
   "execution_count": 1,
   "id": "06519d3e",
   "metadata": {},
   "outputs": [],
   "source": [
    "from pytorch_lightning import Trainer\n",
    "from pytorch_lightning.callbacks.progress import TQDMProgressBar\n",
    "from torch.utils.data import DataLoader\n",
    "\n",
    "from etudelib.data.synthetic.synthetic import SyntheticDataset\n",
    "\n",
    "from omegaconf import OmegaConf, DictConfig, ListConfig\n",
    "from importlib import import_module\n",
    "import os\n",
    "import torch"
   ]
  },
  {
   "cell_type": "code",
   "execution_count": 2,
   "id": "fcc876f0",
   "metadata": {},
   "outputs": [
    {
     "data": {
      "text/plain": [
       "False"
      ]
     },
     "execution_count": 2,
     "metadata": {},
     "output_type": "execute_result"
    }
   ],
   "source": [
    "torch.cuda.is_available()"
   ]
  },
  {
   "cell_type": "code",
   "execution_count": 12,
   "id": "2d2d5674",
   "metadata": {},
   "outputs": [],
   "source": [
    "model_path = '../../model_store/gru4rec_bolcom_c10000_t50_cpu/gru4rec_bolcom_c10000_t50_cpu_jitopt.pth'\n",
    "payload_path = '../../model_store/gru4rec_bolcom_c10000_t50_cpu/gru4rec_bolcom_c10000_t50_cpu_payload.yaml'\n"
   ]
  },
  {
   "cell_type": "code",
   "execution_count": 13,
   "id": "f8563114",
   "metadata": {},
   "outputs": [],
   "source": [
    "model = torch.jit.load(model_path)\n",
    "conf = OmegaConf.load(payload_path)"
   ]
  },
  {
   "cell_type": "code",
   "execution_count": 14,
   "id": "23f7551f",
   "metadata": {},
   "outputs": [],
   "source": [
    "model_input = (torch.tensor([[552,   0,   0,   0,   0,   0,   0,   0,   0,   0,   0,   0,   0,   0,\n",
    "           0,   0,   0,   0,   0,   0,   0,   0,   0,   0,   0,   0,   0,   0,\n",
    "           0,   0,   0,   0,   0,   0,   0,   0,   0,   0,   0,   0,   0,   0,\n",
    "           0,   0,   0,   0,   0,   0,   0,   0]]), torch.tensor([1]))"
   ]
  },
  {
   "cell_type": "code",
   "execution_count": 15,
   "id": "4651f24d",
   "metadata": {},
   "outputs": [
    {
     "data": {
      "text/plain": [
       "tensor([[3043, 5360, 5049, 3319, 2725, 5827,  651,  632, 5947, 4811, 2627, 5801,\n",
       "         1139, 1375, 1387, 7241, 5032, 2163, 9934, 1828, 4890]])"
      ]
     },
     "execution_count": 15,
     "metadata": {},
     "output_type": "execute_result"
    }
   ],
   "source": [
    "model.forward(*model_input)"
   ]
  },
  {
   "cell_type": "code",
   "execution_count": null,
   "id": "d47711fb",
   "metadata": {},
   "outputs": [],
   "source": []
  },
  {
   "cell_type": "code",
   "execution_count": null,
   "id": "754c3c02",
   "metadata": {},
   "outputs": [],
   "source": []
  },
  {
   "cell_type": "code",
   "execution_count": null,
   "id": "095f35e4",
   "metadata": {},
   "outputs": [],
   "source": [
    "\n"
   ]
  },
  {
   "cell_type": "code",
   "execution_count": null,
   "id": "48a2694b",
   "metadata": {},
   "outputs": [],
   "source": []
  },
  {
   "cell_type": "code",
   "execution_count": null,
   "id": "ee517356",
   "metadata": {},
   "outputs": [],
   "source": []
  },
  {
   "cell_type": "code",
   "execution_count": null,
   "id": "d8e2fca4",
   "metadata": {},
   "outputs": [],
   "source": []
  },
  {
   "cell_type": "code",
   "execution_count": null,
   "id": "1090624d",
   "metadata": {},
   "outputs": [],
   "source": []
  },
  {
   "cell_type": "code",
   "execution_count": null,
   "id": "1a614537",
   "metadata": {},
   "outputs": [],
   "source": []
  }
 ],
 "metadata": {
  "kernelspec": {
   "display_name": "Python 3 (ipykernel)",
   "language": "python",
   "name": "python3"
  },
  "language_info": {
   "codemirror_mode": {
    "name": "ipython",
    "version": 3
   },
   "file_extension": ".py",
   "mimetype": "text/x-python",
   "name": "python",
   "nbconvert_exporter": "python",
   "pygments_lexer": "ipython3",
   "version": "3.10.9"
  }
 },
 "nbformat": 4,
 "nbformat_minor": 5
}
